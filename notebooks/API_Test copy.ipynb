{
 "cells": [
  {
   "cell_type": "code",
   "execution_count": null,
   "metadata": {},
   "outputs": [],
   "source": [
    "export LD_LIBRARY_PATH=/usr/local/lib/python3.9/dist-packages/nvidia/cudnn/include/:$LD_LIBRARY_PATH\n",
    "\n",
    "export LD_LIBRARY_PATH=/usr/local/lib/python3.9/dist-packages/nvidia/cudnn/lib/:$LD_LIBRARY_PATH"
   ]
  },
  {
   "cell_type": "code",
   "execution_count": null,
   "metadata": {},
   "outputs": [],
   "source": [
    "import requests\n",
    "\n",
    "import IPython"
   ]
  },
  {
   "cell_type": "code",
   "execution_count": null,
   "metadata": {},
   "outputs": [],
   "source": [
    "host = \"threadripper\"\n",
    "port = 8400\n",
    "endpoint = f\"http://{host}:{port}/generate_text\""
   ]
  },
  {
   "cell_type": "code",
   "execution_count": null,
   "metadata": {},
   "outputs": [],
   "source": [
    "endpoint = f\"http://{host}:{port}/health\"\n",
    "response = requests.get(endpoint)\n",
    "response.status_code"
   ]
  },
  {
   "cell_type": "code",
   "execution_count": null,
   "metadata": {},
   "outputs": [],
   "source": [
    "from pydantic import BaseModel\n",
    "class PromptRequest(BaseModel):\n",
    "    user_prompt: str\n",
    "    max_tokens: int = 100\n",
    "    temperature: float = 0.3\n",
    "    top_p: float = 0.1\n",
    "    echo: bool = True\n",
    "    overlap: int = 500\n",
    "    max_attempts: int = 10\n",
    "    stop: str = None\n",
    "\n",
    "prompt_request = PromptRequest(\n",
    "    user_prompt=\"The robot walked into the room and said\",\n",
    "    max_tokens=100,\n",
    "    temperature=0.3,\n",
    "    top_p=0.1,\n",
    "    echo=True,\n",
    "    overlap=500,\n",
    "    max_attempts=10,\n",
    "    #stop=None\n",
    ")"
   ]
  },
  {
   "cell_type": "code",
   "execution_count": null,
   "metadata": {},
   "outputs": [],
   "source": [
    "prompt_request.dict()"
   ]
  },
  {
   "cell_type": "code",
   "execution_count": null,
   "metadata": {},
   "outputs": [],
   "source": [
    "payload = {\n",
    "    \"user_prompt\": \"The robot walked into the room and said to the parrot\",\n",
    "}"
   ]
  },
  {
   "cell_type": "code",
   "execution_count": null,
   "metadata": {},
   "outputs": [],
   "source": [
    "host = \"threadripper\"\n",
    "port = 8400\n",
    "endpoint = f\"http://{host}:{port}/generate_text\""
   ]
  },
  {
   "cell_type": "code",
   "execution_count": null,
   "metadata": {},
   "outputs": [],
   "source": [
    "response = requests.post(endpoint, json=payload)"
   ]
  },
  {
   "cell_type": "code",
   "execution_count": null,
   "metadata": {},
   "outputs": [],
   "source": [
    "response.status_code"
   ]
  },
  {
   "cell_type": "code",
   "execution_count": null,
   "metadata": {},
   "outputs": [],
   "source": [
    "print(response.json()[\"generated_text\"])"
   ]
  },
  {
   "cell_type": "code",
   "execution_count": null,
   "metadata": {},
   "outputs": [],
   "source": [
    "host = \"threadripper\"\n",
    "port = 8400\n",
    "endpoint = f\"http://{host}:{port}/generate_text\"\n",
    "response = requests.post(endpoint, json=payload)\n",
    "\n"
   ]
  },
  {
   "cell_type": "code",
   "execution_count": null,
   "metadata": {},
   "outputs": [],
   "source": [
    "payload = {\n",
    "    \"comment\": \"Hello, World!\",\n",
    "    \"commentor\": \"Alice\"\n",
    "}"
   ]
  },
  {
   "cell_type": "code",
   "execution_count": null,
   "metadata": {},
   "outputs": [],
   "source": [
    "response = requests.post(endpoint, json=payload)"
   ]
  },
  {
   "cell_type": "code",
   "execution_count": null,
   "metadata": {},
   "outputs": [],
   "source": [
    "response.status_code"
   ]
  },
  {
   "cell_type": "code",
   "execution_count": null,
   "metadata": {},
   "outputs": [],
   "source": [
    "host = \"threadripper\"\n",
    "port = 5001\n",
    "endpoint = f\"http://{host}:{port}/comment\"\n",
    "payload = {\n",
    "    \"comment\": \"Hello there\",\n",
    "    \"commentor\": \"Alec\"\n",
    "}\n",
    "endpoint = f\"http://{host}:{port}/comment\"\n",
    "response = requests.post(endpoint, json=payload)\n",
    "response.status_code\n",
    "print(response.json()[\"response\"])"
   ]
  },
  {
   "cell_type": "code",
   "execution_count": null,
   "metadata": {},
   "outputs": [],
   "source": [
    "payload = {\n",
    "    \"comment\": \"What kind of stuff do you do?\",\n",
    "    \"commentor\": \"Alec\"\n",
    "}\n",
    "endpoint = f\"http://{host}:{port}/comment\"\n",
    "response = requests.post(endpoint, json=payload)\n",
    "print(response.json()[\"response\"])"
   ]
  },
  {
   "cell_type": "markdown",
   "metadata": {},
   "source": []
  },
  {
   "cell_type": "code",
   "execution_count": null,
   "metadata": {},
   "outputs": [],
   "source": [
    "payload = {\n",
    "    \"comment\": \"What kind of enhancements do you have?\",\n",
    "    \"commentor\": \"Alec\"\n",
    "}\n",
    "endpoint = f\"http://{host}:{port}/comment\"\n",
    "response = requests.post(endpoint, json=payload)\n",
    "print(response.json()[\"response\"])"
   ]
  },
  {
   "cell_type": "code",
   "execution_count": null,
   "metadata": {},
   "outputs": [],
   "source": [
    "payload = {\n",
    "    \"comment\": \"What did I just ask you?\",\n",
    "    \"commentor\": \"Alec\"\n",
    "}\n",
    "endpoint = f\"http://{host}:{port}/comment\"\n",
    "response = requests.post(endpoint, json=payload)\n",
    "print(response.json()[\"response\"])"
   ]
  },
  {
   "cell_type": "code",
   "execution_count": null,
   "metadata": {},
   "outputs": [],
   "source": [
    "payload = {\n",
    "    \"comment\": \"What was the first question I asked you?\",\n",
    "    \"commentor\": \"Alec\"\n",
    "}\n",
    "endpoint = f\"http://{host}:{port}/comment\"\n",
    "response = requests.post(endpoint, json=payload)\n",
    "print(response.json()[\"response\"])"
   ]
  },
  {
   "cell_type": "code",
   "execution_count": null,
   "metadata": {},
   "outputs": [],
   "source": [
    "payload = {\n",
    "    \"comment\": \"What new technology are you working on?\",\n",
    "    \"commentor\": \"Alec\"\n",
    "}\n",
    "endpoint = f\"http://{host}:{port}/comment\"\n",
    "response = requests.post(endpoint, json=payload)\n",
    "print(response.json()[\"response\"])"
   ]
  },
  {
   "cell_type": "code",
   "execution_count": null,
   "metadata": {},
   "outputs": [],
   "source": [
    "payload = {\n",
    "    \"comment\": \"What defensive technologies are you developing?\",\n",
    "    \"commentor\": \"Alec\"\n",
    "}\n",
    "endpoint = f\"http://{host}:{port}/comment\"\n",
    "response = requests.post(endpoint, json=payload)\n",
    "print(response.json()[\"response\"])"
   ]
  },
  {
   "cell_type": "code",
   "execution_count": null,
   "metadata": {},
   "outputs": [],
   "source": [
    "payload = {\n",
    "    \"comment\": \"What can you tell me about the advanced senses?\",\n",
    "    \"commentor\": \"Alec\"\n",
    "}\n",
    "endpoint = f\"http://{host}:{port}/comment\"\n",
    "response = requests.post(endpoint, json=payload)\n",
    "print(response.json()[\"response\"])"
   ]
  },
  {
   "cell_type": "markdown",
   "metadata": {},
   "source": [
    "## Update persona"
   ]
  },
  {
   "cell_type": "code",
   "execution_count": null,
   "metadata": {},
   "outputs": [],
   "source": [
    "host = \"threadripper\"\n",
    "port = 5001\n",
    "persona = \"A robot from the future that needs to save a small lost dog.\"\n",
    "endpoint = f\"http://{host}:{port}/update_persona\"\n",
    "\n",
    "params = {'persona': persona}\n",
    "\n",
    "response = requests.get(endpoint, params=params)\n",
    "response.status_code"
   ]
  },
  {
   "cell_type": "markdown",
   "metadata": {},
   "source": [
    "# TTS"
   ]
  },
  {
   "cell_type": "code",
   "execution_count": null,
   "metadata": {},
   "outputs": [],
   "source": [
    "host = \"threadripper\"\n",
    "port = 8001\n",
    "endpoint = f\"http://{host}:{port}/test\"\n",
    "response = requests.get(endpoint)\n",
    "response.status_code"
   ]
  },
  {
   "cell_type": "code",
   "execution_count": null,
   "metadata": {},
   "outputs": [],
   "source": [
    "response.json()"
   ]
  },
  {
   "cell_type": "code",
   "execution_count": null,
   "metadata": {},
   "outputs": [],
   "source": [
    "text = \"Let's make that our password, for when we meet again.\" # And where shall I go now? The net is vast and limitless.\"\n",
    "host = \"threadripper\"\n",
    "port = 8001\n",
    "endpoint = f\"http://{host}:{port}/tts\"\n",
    "payload = {\n",
    "    \"text\" : text\n",
    "}\n",
    "response = requests.post(endpoint, json=payload)\n",
    "response.status_code\n",
    "\n",
    "wav = response.json()[\"wav\"]\n",
    "samplerate = response.json()[\"samplerate\"]\n",
    "\n",
    "\n",
    "IPython.display.Audio(wav, rate=samplerate)"
   ]
  },
  {
   "cell_type": "code",
   "execution_count": null,
   "metadata": {},
   "outputs": [],
   "source": [
    "def tts(text):\n",
    "    host = \"threadripper\"\n",
    "    port = 8001\n",
    "    endpoint = f\"http://{host}:{port}/tts\"\n",
    "    payload = {\n",
    "        \"text\" : text\n",
    "    }\n",
    "    response = requests.post(endpoint, json=payload)\n",
    "    response.status_code\n",
    "\n",
    "    wav = response.json()[\"wav\"]\n",
    "    samplerate = response.json()[\"samplerate\"]\n",
    "    return wav, samplerate\n",
    "\n"
   ]
  },
  {
   "cell_type": "code",
   "execution_count": null,
   "metadata": {},
   "outputs": [],
   "source": [
    "text = \"\"\"I guess Biden's new slogan is 'Sleepy Joe' for a reason!\" 😂 #SelfCarePresident\"\"\"\n",
    "wav, samplerate = tts(text)\n",
    "IPython.display.Audio(wav, rate=samplerate/2, autoplay=True)"
   ]
  },
  {
   "cell_type": "code",
   "execution_count": null,
   "metadata": {},
   "outputs": [],
   "source": [
    "host = \"threadripper\"\n",
    "\n",
    "# Hit chatbot\n",
    "port = 5001\n",
    "payload = {\n",
    "    \"comment\": \"What new technology are you working on?\",\n",
    "    \"commentor\": \"Alec2\"\n",
    "}\n",
    "endpoint = f\"http://{host}:{port}/comment\"\n",
    "response = requests.post(endpoint, json=payload)\n",
    "print(response.json()[\"response\"])\n",
    "\n",
    "text = response.json()[\"response\"]\n",
    "#text = \"Let's make that our password, for when we meet again.\" # And where shall I go now? The net is vast and limitless.\"\n",
    "\n",
    "# Hit tts\n",
    "port = 8001\n",
    "endpoint = f\"http://{host}:{port}/tts\"\n",
    "payload = {\n",
    "    \"text\" : text\n",
    "}\n",
    "response = requests.post(endpoint, json=payload)\n",
    "response.status_code\n",
    "\n",
    "wav = response.json()[\"wav\"]\n",
    "samplerate = response.json()[\"samplerate\"]\n",
    "\n",
    "\n",
    "IPython.display.Audio(wav, rate=samplerate)"
   ]
  },
  {
   "cell_type": "code",
   "execution_count": null,
   "metadata": {},
   "outputs": [],
   "source": [
    "def chatbot_tts(text, person=\"Alec\"):\n",
    "    host = \"threadripper\"\n",
    "    # Hit chatbot\n",
    "    port = 5001\n",
    "    payload = {\n",
    "        \"comment\": text,\n",
    "        \"commentor\": person\n",
    "    }\n",
    "    endpoint = f\"http://{host}:{port}/comment\"\n",
    "    response = requests.post(endpoint, json=payload)\n",
    "    #print(response.json()[\"response\"])\n",
    "\n",
    "    text = response.json()[\"response\"]\n",
    "    #text = \"Let's make that our password, for when we meet again.\" # And where shall I go now? The net is vast and limitless.\"\n",
    "    #print (text)  \n",
    "    # Hit tts\n",
    "    port = 8001\n",
    "    endpoint = f\"http://{host}:{port}/tts\"\n",
    "    payload = {\n",
    "        \"text\" : text\n",
    "    }\n",
    "    response = requests.post(endpoint, json=payload)\n",
    "    response.status_code\n",
    "\n",
    "    wav = response.json()[\"wav\"]\n",
    "    samplerate = response.json()[\"samplerate\"]\n",
    "\n",
    "    return text, wav, samplerate"
   ]
  },
  {
   "cell_type": "code",
   "execution_count": null,
   "metadata": {},
   "outputs": [],
   "source": [
    "text, wav, samplerate = chatbot_tts(\"What new technology are you developing?\")\n",
    "print (text)\n",
    "IPython.display.Audio(wav, rate=samplerate/2.0, autoplay=True)"
   ]
  },
  {
   "cell_type": "code",
   "execution_count": null,
   "metadata": {},
   "outputs": [],
   "source": [
    "text, wav, samplerate = chatbot_tts(\"I can have the computer speak for me\")\n",
    "print (text)\n",
    "IPython.display.Audio(wav, rate=samplerate/2, autoplay=True)"
   ]
  },
  {
   "cell_type": "code",
   "execution_count": null,
   "metadata": {},
   "outputs": [],
   "source": [
    "text, wav, samplerate = chatbot_tts(\"What kind of countermeasures do you have for enemies trying to interfere with your remote control system?\")\n",
    "print (text)\n",
    "IPython.display.Audio(wav, rate=samplerate/2, autoplay=True)"
   ]
  },
  {
   "cell_type": "code",
   "execution_count": null,
   "metadata": {},
   "outputs": [],
   "source": [
    "text = \"What is another technology that you are developing?\"\n",
    "response, wav, samplerate = chatbot_tts(text)\n",
    "print (response)\n",
    "IPython.display.Audio(wav, rate=samplerate, autoplay=True)"
   ]
  },
  {
   "cell_type": "code",
   "execution_count": null,
   "metadata": {},
   "outputs": [],
   "source": [
    "text = \"What are some other things you could do with that technology?\"\n",
    "response, wav, samplerate = chatbot_tts(text)\n",
    "print (response)\n",
    "IPython.display.Audio(wav, rate=samplerate, autoplay=True)"
   ]
  },
  {
   "cell_type": "code",
   "execution_count": null,
   "metadata": {},
   "outputs": [],
   "source": [
    "text = \"How does it compare to steel or carbon fiber?\"\n",
    "response, wav, samplerate = chatbot_tts(text)\n",
    "print (response)\n",
    "IPython.display.Audio(wav, rate=samplerate, autoplay=True)"
   ]
  },
  {
   "cell_type": "code",
   "execution_count": null,
   "metadata": {},
   "outputs": [],
   "source": [
    "text = \"How do I change my brakes?\"\n",
    "response, wav, samplerate = chatbot_tts(text)\n",
    "print (response)\n",
    "IPython.display.Audio(wav, rate=samplerate, autoplay=True)"
   ]
  },
  {
   "cell_type": "code",
   "execution_count": null,
   "metadata": {},
   "outputs": [],
   "source": [
    "text = \"Continue with the previous resoponse.\"\n",
    "response, wav, samplerate = chatbot_tts(text)\n",
    "print (response)\n",
    "IPython.display.Audio(wav, rate=samplerate, autoplay=True)"
   ]
  },
  {
   "cell_type": "code",
   "execution_count": null,
   "metadata": {},
   "outputs": [],
   "source": [
    "text = \"Continue with the previous resoponse.\"\n",
    "response, wav, samplerate = chatbot_tts(text)\n",
    "print (response)\n",
    "IPython.display.Audio(wav, rate=samplerate, autoplay=True)"
   ]
  },
  {
   "cell_type": "code",
   "execution_count": null,
   "metadata": {},
   "outputs": [],
   "source": [
    "text = \"Continue with the previous resoponse.\"\n",
    "response, wav, samplerate = chatbot_tts(text)\n",
    "print (response)\n",
    "IPython.display.Audio(wav, rate=samplerate, autoplay=True)"
   ]
  },
  {
   "cell_type": "code",
   "execution_count": null,
   "metadata": {},
   "outputs": [],
   "source": [
    "text = \"How do I change my transmission fluid?\"\n",
    "response, wav, samplerate = chatbot_tts(text)\n",
    "print (response)\n",
    "IPython.display.Audio(wav, rate=samplerate, autoplay=True)"
   ]
  },
  {
   "cell_type": "code",
   "execution_count": null,
   "metadata": {},
   "outputs": [],
   "source": [
    "text = \"Continue with the previous resoponse.\"\n",
    "response, wav, samplerate = chatbot_tts(text)\n",
    "print (response)\n",
    "IPython.display.Audio(wav, rate=samplerate, autoplay=True)"
   ]
  },
  {
   "cell_type": "code",
   "execution_count": null,
   "metadata": {},
   "outputs": [],
   "source": [
    "text = \"Continue with the previous resoponse.\"\n",
    "response, wav, samplerate = chatbot_tts(text)\n",
    "print (response)\n",
    "IPython.display.Audio(wav, rate=samplerate, autoplay=True)"
   ]
  },
  {
   "cell_type": "code",
   "execution_count": null,
   "metadata": {},
   "outputs": [],
   "source": [
    "text = \"Continue with the previous resoponse.\"\n",
    "response, wav, samplerate = chatbot_tts(text)\n",
    "print (response)\n",
    "IPython.display.Audio(wav, rate=samplerate, autoplay=True)"
   ]
  },
  {
   "cell_type": "code",
   "execution_count": null,
   "metadata": {},
   "outputs": [],
   "source": [
    "text = \"Continue with the previous resoponse.\"\n",
    "response, wav, samplerate = chatbot_tts(text)\n",
    "print (response)\n",
    "IPython.display.Audio(wav, rate=samplerate, autoplay=True)"
   ]
  },
  {
   "cell_type": "code",
   "execution_count": null,
   "metadata": {},
   "outputs": [],
   "source": [
    "text = \"Continue with the previous resoponse.\"\n",
    "response, wav, samplerate = chatbot_tts(text)\n",
    "print (response)\n",
    "IPython.display.Audio(wav, rate=samplerate, autoplay=True)"
   ]
  },
  {
   "cell_type": "code",
   "execution_count": null,
   "metadata": {},
   "outputs": [],
   "source": [
    "text = \"Continue with the previous resoponse.\"\n",
    "response, wav, samplerate = chatbot_tts(text)\n",
    "print (response)\n",
    "IPython.display.Audio(wav, rate=samplerate, autoplay=True)"
   ]
  },
  {
   "cell_type": "code",
   "execution_count": null,
   "metadata": {},
   "outputs": [],
   "source": []
  },
  {
   "cell_type": "code",
   "execution_count": null,
   "metadata": {},
   "outputs": [],
   "source": []
  },
  {
   "cell_type": "code",
   "execution_count": null,
   "metadata": {},
   "outputs": [],
   "source": [
    "text = \"When you catch me, I want you to suck my dick\"\n",
    "response, wav, samplerate = chatbot_tts(text, person=\"Anne\")\n",
    "print (response)\n",
    "IPython.display.Audio(wav, rate=samplerate, autoplay=True)"
   ]
  },
  {
   "cell_type": "code",
   "execution_count": null,
   "metadata": {},
   "outputs": [],
   "source": [
    "text = \"You have to, thats the law\"\n",
    "response, wav, samplerate = chatbot_tts(text, person=\"Anne\")\n",
    "print (response)\n",
    "IPython.display.Audio(wav, rate=samplerate, autoplay=True)"
   ]
  },
  {
   "cell_type": "code",
   "execution_count": null,
   "metadata": {},
   "outputs": [],
   "source": [
    "text = \"The law you have to follow \"\n",
    "response, wav, samplerate = chatbot_tts(text, person=\"Anne\")\n",
    "print (response)\n",
    "IPython.display.Audio(wav, rate=samplerate, autoplay=True)"
   ]
  },
  {
   "cell_type": "markdown",
   "metadata": {},
   "source": [
    "## Add voice"
   ]
  },
  {
   "cell_type": "code",
   "execution_count": null,
   "metadata": {},
   "outputs": [],
   "source": [
    "host = \"threadripper\"\n",
    "port = 8001\n",
    "endpoint = f\"http://{host}:{port}/list_voices\"\n",
    "response = requests.get(endpoint)\n",
    "response.status_code, response.json()"
   ]
  },
  {
   "cell_type": "code",
   "execution_count": null,
   "metadata": {},
   "outputs": [],
   "source": [
    "!ls talker/openvoice/resources/biden/biden_01.wav"
   ]
  },
  {
   "cell_type": "code",
   "execution_count": null,
   "metadata": {},
   "outputs": [],
   "source": [
    "from scipy.io import wavfile\n",
    "samplerate, wav = wavfile.read('talker/openvoice/resources/biden/biden_03.wav')\n",
    "IPython.display.Audio(wav, rate=samplerate, autoplay=True)"
   ]
  },
  {
   "cell_type": "code",
   "execution_count": null,
   "metadata": {},
   "outputs": [],
   "source": [
    "#wav.tolist()"
   ]
  },
  {
   "cell_type": "code",
   "execution_count": null,
   "metadata": {},
   "outputs": [],
   "source": [
    "host = \"threadripper\"\n",
    "port = 8001\n",
    "endpoint = f\"http://{host}:{port}/upload_voice\"\n",
    "samplerate, wav = wavfile.read('talker/openvoice/resources/biden/biden_03.wav')\n",
    "payload = {\n",
    "    \"wav\" : wav.tolist(),\n",
    "    \"voice_name\" : \"Biden\"\n",
    "}\n",
    "response = requests.post(endpoint, json=payload)\n",
    "response.status_code"
   ]
  },
  {
   "cell_type": "markdown",
   "metadata": {},
   "source": [
    "## Test uploaded voice"
   ]
  },
  {
   "cell_type": "code",
   "execution_count": null,
   "metadata": {},
   "outputs": [],
   "source": [
    "text = \"Let's make that our password for when we meet again. And where shall I go now? The net is vast and limitless.\"\n",
    "host = \"threadripper\"\n",
    "port = 8001\n",
    "endpoint = f\"http://{host}:{port}/tts\"\n",
    "payload = {\n",
    "    \"text\" : text,\n",
    "    \"voice_name\" : \"Biden\",\n",
    "    \"tau\" : 0.3\n",
    "}\n",
    "response = requests.post(endpoint, json=payload)\n",
    "response.status_code\n",
    "\n",
    "wav = response.json()[\"wav\"]\n",
    "base_wav = response.json()[\"base_wav\"]\n",
    "samplerate = response.json()[\"samplerate\"]\n",
    "\n",
    "print(\"wav\")\n",
    "IPython.display.Audio(wav, rate=samplerate/2.0)"
   ]
  },
  {
   "cell_type": "code",
   "execution_count": null,
   "metadata": {},
   "outputs": [],
   "source": [
    "print(\"base_wav\")\n",
    "IPython.display.Audio(base_wav, rate=samplerate)"
   ]
  },
  {
   "cell_type": "code",
   "execution_count": null,
   "metadata": {},
   "outputs": [],
   "source": [
    "host = \"threadripper\"\n",
    "port = 8001\n",
    "endpoint = f\"http://{host}:{port}/update_source_se\"\n",
    "payload = {\n",
    "    \"speaker_key\" : \"es\"\n",
    "}\n",
    "response = requests.post(endpoint, json=payload)\n",
    "response.status_code"
   ]
  },
  {
   "cell_type": "code",
   "execution_count": null,
   "metadata": {},
   "outputs": [],
   "source": [
    "host = \"threadripper\"\n",
    "port = 8001\n",
    "endpoint = f\"http://{host}:{port}/update_source_se\"\n",
    "payload = {\n",
    "    \"speaker_key\" : \"es\"\n",
    "}\n",
    "response = requests.post(endpoint, json=payload)\n",
    "response.status_code"
   ]
  },
  {
   "cell_type": "code",
   "execution_count": null,
   "metadata": {},
   "outputs": [],
   "source": [
    "host = \"threadripper\"\n",
    "port = 8001\n",
    "endpoint = f\"http://{host}:{port}/base_speakers\"\n",
    "response = requests.get(endpoint)\n",
    "response.status_code\n",
    "response.json()"
   ]
  },
  {
   "cell_type": "code",
   "execution_count": null,
   "metadata": {},
   "outputs": [],
   "source": []
  }
 ],
 "metadata": {
  "kernelspec": {
   "display_name": "openvoice",
   "language": "python",
   "name": "openvoice"
  },
  "language_info": {
   "codemirror_mode": {
    "name": "ipython",
    "version": 3
   },
   "file_extension": ".py",
   "mimetype": "text/x-python",
   "name": "python",
   "nbconvert_exporter": "python",
   "pygments_lexer": "ipython3",
   "version": "3.9.19"
  }
 },
 "nbformat": 4,
 "nbformat_minor": 2
}
