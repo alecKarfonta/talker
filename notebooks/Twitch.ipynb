{
 "cells": [
  {
   "cell_type": "code",
   "execution_count": 1,
   "id": "1d12b891",
   "metadata": {},
   "outputs": [],
   "source": [
    "import socket\n",
    "import logging\n",
    "\n",
    "logging.basicConfig(level=logging.INFO,\n",
    "                    format='%(asctime)s — %(message)s',\n",
    "                    datefmt='%Y-%m-%d_%H:%M:%S')\n",
    "                    #handlers=[logging.FileHandler('chat.log', encoding='utf-8')])\n"
   ]
  },
  {
   "cell_type": "code",
   "execution_count": 2,
   "id": "6008face",
   "metadata": {},
   "outputs": [
    {
     "name": "stdout",
     "output_type": "stream",
     "text": [
      "Requirement already satisfied: twitchAPI in /opt/conda/lib/python3.8/site-packages (3.11.0)\n",
      "Requirement already satisfied: typing-extensions in /opt/conda/lib/python3.8/site-packages (from twitchAPI) (4.5.0)\n",
      "Requirement already satisfied: aiohttp in /opt/conda/lib/python3.8/site-packages (from twitchAPI) (3.8.4)\n",
      "Requirement already satisfied: python-dateutil in /opt/conda/lib/python3.8/site-packages (from twitchAPI) (2.8.2)\n",
      "Requirement already satisfied: charset-normalizer<4.0,>=2.0 in /opt/conda/lib/python3.8/site-packages (from aiohttp->twitchAPI) (2.0.4)\n",
      "Requirement already satisfied: frozenlist>=1.1.1 in /opt/conda/lib/python3.8/site-packages (from aiohttp->twitchAPI) (1.3.3)\n",
      "Requirement already satisfied: attrs>=17.3.0 in /opt/conda/lib/python3.8/site-packages (from aiohttp->twitchAPI) (23.1.0)\n",
      "Requirement already satisfied: multidict<7.0,>=4.5 in /opt/conda/lib/python3.8/site-packages (from aiohttp->twitchAPI) (6.0.4)\n",
      "Requirement already satisfied: async-timeout<5.0,>=4.0.0a3 in /opt/conda/lib/python3.8/site-packages (from aiohttp->twitchAPI) (4.0.2)\n",
      "Requirement already satisfied: aiosignal>=1.1.2 in /opt/conda/lib/python3.8/site-packages (from aiohttp->twitchAPI) (1.3.1)\n",
      "Requirement already satisfied: yarl<2.0,>=1.0 in /opt/conda/lib/python3.8/site-packages (from aiohttp->twitchAPI) (1.9.2)\n",
      "Requirement already satisfied: six>=1.5 in /opt/conda/lib/python3.8/site-packages (from python-dateutil->twitchAPI) (1.16.0)\n",
      "Requirement already satisfied: idna>=2.0 in /opt/conda/lib/python3.8/site-packages (from yarl<2.0,>=1.0->aiohttp->twitchAPI) (3.4)\n",
      "\u001b[33mWARNING: Running pip as the 'root' user can result in broken permissions and conflicting behaviour with the system package manager. It is recommended to use a virtual environment instead: https://pip.pypa.io/warnings/venv\u001b[0m\u001b[33m\n",
      "\u001b[0m"
     ]
    }
   ],
   "source": [
    "!pip install twitchAPI"
   ]
  },
  {
   "cell_type": "code",
   "execution_count": 3,
   "id": "51fe7a66",
   "metadata": {},
   "outputs": [],
   "source": [
    "client_id = \"wwe5w9lnob78v1ph2xhefpyk6zi2k3\"\n",
    "secret = \"1vk4sy6jx1lv6s5b673gvdqt9nlu3v\""
   ]
  },
  {
   "cell_type": "code",
   "execution_count": 4,
   "id": "0b162660",
   "metadata": {},
   "outputs": [
    {
     "name": "stdout",
     "output_type": "stream",
     "text": [
      "Traceback (most recent call last):\r\n",
      "  File \"twitch.py\", line 21, in <module>\r\n",
      "    asyncio.run(twitch_example())\r\n",
      "  File \"/opt/conda/lib/python3.8/asyncio/runners.py\", line 44, in run\r\n",
      "    return loop.run_until_complete(main)\r\n",
      "  File \"/opt/conda/lib/python3.8/asyncio/base_events.py\", line 616, in run_until_complete\r\n",
      "    return future.result()\r\n",
      "  File \"twitch.py\", line 17, in twitch_example\r\n",
      "    print(user.id)\r\n",
      "AttributeError: 'NoneType' object has no attribute 'id'\r\n"
     ]
    }
   ],
   "source": [
    "!python twitch.py"
   ]
  },
  {
   "cell_type": "code",
   "execution_count": null,
   "id": "83dcb2d3",
   "metadata": {},
   "outputs": [],
   "source": []
  },
  {
   "cell_type": "code",
   "execution_count": null,
   "id": "6e9b4d4e",
   "metadata": {},
   "outputs": [],
   "source": []
  },
  {
   "cell_type": "code",
   "execution_count": 5,
   "id": "d36b7556",
   "metadata": {},
   "outputs": [
    {
     "ename": "NameError",
     "evalue": "name 'Twitch' is not defined",
     "output_type": "error",
     "traceback": [
      "\u001b[0;31m---------------------------------------------------------------------------\u001b[0m",
      "\u001b[0;31mNameError\u001b[0m                                 Traceback (most recent call last)",
      "Cell \u001b[0;32mIn[5], line 1\u001b[0m\n\u001b[0;32m----> 1\u001b[0m twitch \u001b[38;5;241m=\u001b[39m \u001b[43mTwitch\u001b[49m(client_id, secret)\n",
      "\u001b[0;31mNameError\u001b[0m: name 'Twitch' is not defined"
     ]
    }
   ],
   "source": [
    "twitch = Twitch(client_id, secret)"
   ]
  },
  {
   "cell_type": "code",
   "execution_count": 6,
   "id": "d0bb2ad4",
   "metadata": {},
   "outputs": [
    {
     "ename": "NameError",
     "evalue": "name 'first' is not defined",
     "output_type": "error",
     "traceback": [
      "\u001b[0;31m---------------------------------------------------------------------------\u001b[0m",
      "\u001b[0;31mNameError\u001b[0m                                 Traceback (most recent call last)",
      "Cell \u001b[0;32mIn[6], line 1\u001b[0m\n\u001b[0;32m----> 1\u001b[0m user \u001b[38;5;241m=\u001b[39m \u001b[38;5;28;01mawait\u001b[39;00m first(twitch\u001b[38;5;241m.\u001b[39mget_users(logins\u001b[38;5;241m=\u001b[39m\u001b[38;5;124m'\u001b[39m\u001b[38;5;124myour_twitch_user\u001b[39m\u001b[38;5;124m'\u001b[39m))\n",
      "\u001b[0;31mNameError\u001b[0m: name 'first' is not defined"
     ]
    }
   ],
   "source": [
    "user = await first(twitch.get_users(logins='your_twitch_user'))\n"
   ]
  },
  {
   "cell_type": "code",
   "execution_count": null,
   "id": "e634fc61",
   "metadata": {},
   "outputs": [],
   "source": [
    "user.id"
   ]
  },
  {
   "cell_type": "code",
   "execution_count": null,
   "id": "3cf02769",
   "metadata": {},
   "outputs": [],
   "source": []
  },
  {
   "cell_type": "code",
   "execution_count": null,
   "id": "469ab7ad",
   "metadata": {},
   "outputs": [],
   "source": []
  },
  {
   "cell_type": "code",
   "execution_count": null,
   "id": "b8b00c1a",
   "metadata": {},
   "outputs": [],
   "source": []
  },
  {
   "cell_type": "code",
   "execution_count": null,
   "id": "628c1f48",
   "metadata": {},
   "outputs": [],
   "source": [
    "!python twitch.py"
   ]
  },
  {
   "cell_type": "code",
   "execution_count": 14,
   "id": "34125da8",
   "metadata": {},
   "outputs": [],
   "source": [
    "server = 'irc.chat.twitch.tv'\n",
    "port = 6667\n",
    "nickname = 'Major__TV__'\n",
    "token = 'oauth:m93zotc26hsi275unbqyexmyqu5mk3'\n",
    "channel = '#mrperfectrob'"
   ]
  },
  {
   "cell_type": "code",
   "execution_count": 20,
   "id": "ce8a119b",
   "metadata": {},
   "outputs": [],
   "source": [
    "class TwitchConnection:\n",
    "    def __init__(self, server, port, channel, token, nickname):\n",
    "        self.sock = socket.socket()\n",
    "        self.sock.connect((server, port))\n",
    "        self.token = token\n",
    "        self.nickname = nickname\n",
    "        self.chat_history = []\n",
    "        \n",
    "        self.sock.send(f\"PASS {self.token}\\n\".encode('utf-8'))\n",
    "        self.sock.send(f\"NICK {self.nickname}\\n\".encode('utf-8'))\n",
    "        self.join_channel(channel)\n",
    "        \n",
    "    def join_channel(self, channel=None):\n",
    "        if not channel:\n",
    "            channel = self.channel\n",
    "        self.sock.send(f\"JOIN {channel}\\n\".encode('utf-8'))\n",
    "\n",
    "        \n",
    "    \n",
    "    def get_chat_response(self):\n",
    "        resp = self.sock.recv(2048).decode('utf-8')\n",
    "        return resp\n",
    "\n",
    "        \n",
    "    def get_chat(self):\n",
    "        resp = self.sock.recv(2048).decode('utf-8')\n",
    "\n",
    "        \n",
    "        if \":Welcome\" in resp:\n",
    "            logging.info(\"Got welcome response, repeating request\")\n",
    "            resp = self.sock.recv(2048).decode('utf-8')\n",
    "            \n",
    "        \n",
    "        if len(resp) == 0:\n",
    "            logging.info(\"No response\")\n",
    "            #return None\n",
    "        \n",
    "        if not \" :\" in resp:\n",
    "            logging.error(\"Missing meta divider\")\n",
    "        \n",
    "        messages = resp.split(\"\\n\")\n",
    "\n",
    "        for message in messages:\n",
    "            try:\n",
    "                # Extract meta data\n",
    "                meta = message[0:message.index(\" :\")]\n",
    "                meta = meta[1:]\n",
    "                meta = meta.split(\" \")\n",
    "                # Extract username\n",
    "                username = meta[0]\n",
    "                username = username[0:username.index(\"!\")]\n",
    "                # Extract message\n",
    "                comment = message[message.index(\" :\")+2:-1]\n",
    "                self.chat_history.append({\n",
    "                    \"username\" : username,\n",
    "                    \"comment\" : comment\n",
    "                })\n",
    "            except:\n",
    "                logging.error(f\"Error parsing message = {message}\")"
   ]
  },
  {
   "cell_type": "code",
   "execution_count": 21,
   "id": "d7d05862",
   "metadata": {},
   "outputs": [],
   "source": [
    "tw = TwitchConnection(server, port, channel, token, nickname)"
   ]
  },
  {
   "cell_type": "code",
   "execution_count": 22,
   "id": "8057db16",
   "metadata": {},
   "outputs": [],
   "source": [
    "#tw.get_chat_response()"
   ]
  },
  {
   "cell_type": "code",
   "execution_count": 23,
   "id": "3a52ed5c",
   "metadata": {},
   "outputs": [
    {
     "name": "stderr",
     "output_type": "stream",
     "text": [
      "2023-06-20_20:58:48 — Got welcome response, repeating request\n",
      "2023-06-20_21:01:47 — Error parsing message = \n"
     ]
    }
   ],
   "source": [
    "tw.get_chat()"
   ]
  },
  {
   "cell_type": "code",
   "execution_count": 24,
   "id": "639b2cc8",
   "metadata": {},
   "outputs": [
    {
     "data": {
      "text/plain": [
       "[{'username': 'eryn211', 'comment': 'Off 🤑'}]"
      ]
     },
     "execution_count": 24,
     "metadata": {},
     "output_type": "execute_result"
    }
   ],
   "source": [
    "tw.chat_history"
   ]
  },
  {
   "cell_type": "code",
   "execution_count": null,
   "id": "3b013f5a",
   "metadata": {},
   "outputs": [],
   "source": []
  },
  {
   "cell_type": "code",
   "execution_count": null,
   "id": "9d2c0d64",
   "metadata": {},
   "outputs": [],
   "source": []
  },
  {
   "cell_type": "code",
   "execution_count": null,
   "id": "f3e0affb",
   "metadata": {},
   "outputs": [],
   "source": []
  }
 ],
 "metadata": {
  "kernelspec": {
   "display_name": "Python 3 (ipykernel)",
   "language": "python",
   "name": "python3"
  },
  "language_info": {
   "codemirror_mode": {
    "name": "ipython",
    "version": 3
   },
   "file_extension": ".py",
   "mimetype": "text/x-python",
   "name": "python",
   "nbconvert_exporter": "python",
   "pygments_lexer": "ipython3",
   "version": "3.8.16"
  }
 },
 "nbformat": 4,
 "nbformat_minor": 5
}
