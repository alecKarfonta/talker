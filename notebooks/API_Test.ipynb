{
 "cells": [
  {
   "cell_type": "code",
   "execution_count": 64,
   "metadata": {},
   "outputs": [],
   "source": [
    "import requests"
   ]
  },
  {
   "cell_type": "code",
   "execution_count": null,
   "metadata": {},
   "outputs": [],
   "source": [
    "host = \"threadripper\"\n",
    "port = 8400\n",
    "endpoint = f\"http://{host}:{port}/generate_text\""
   ]
  },
  {
   "cell_type": "code",
   "execution_count": null,
   "metadata": {},
   "outputs": [],
   "source": [
    "endpoint = f\"http://{host}:{port}/health\"\n",
    "response = requests.get(endpoint)\n",
    "response.status_code"
   ]
  },
  {
   "cell_type": "code",
   "execution_count": null,
   "metadata": {},
   "outputs": [],
   "source": [
    "from pydantic import BaseModel\n",
    "class PromptRequest(BaseModel):\n",
    "    user_prompt: str\n",
    "    max_tokens: int = 100\n",
    "    temperature: float = 0.3\n",
    "    top_p: float = 0.1\n",
    "    echo: bool = True\n",
    "    overlap: int = 500\n",
    "    max_attempts: int = 10\n",
    "    stop: str = None\n",
    "\n",
    "prompt_request = PromptRequest(\n",
    "    user_prompt=\"The robot walked into the room and said\",\n",
    "    max_tokens=100,\n",
    "    temperature=0.3,\n",
    "    top_p=0.1,\n",
    "    echo=True,\n",
    "    overlap=500,\n",
    "    max_attempts=10,\n",
    "    #stop=None\n",
    ")"
   ]
  },
  {
   "cell_type": "code",
   "execution_count": null,
   "metadata": {},
   "outputs": [],
   "source": [
    "prompt_request.dict()"
   ]
  },
  {
   "cell_type": "code",
   "execution_count": null,
   "metadata": {},
   "outputs": [],
   "source": [
    "payload = {\n",
    "    \"user_prompt\": \"The robot walked into the room and said to the parrot\",\n",
    "}"
   ]
  },
  {
   "cell_type": "code",
   "execution_count": null,
   "metadata": {},
   "outputs": [],
   "source": [
    "host = \"threadripper\"\n",
    "port = 8400\n",
    "endpoint = f\"http://{host}:{port}/generate_text\""
   ]
  },
  {
   "cell_type": "code",
   "execution_count": null,
   "metadata": {},
   "outputs": [],
   "source": [
    "response = requests.post(endpoint, json=payload)"
   ]
  },
  {
   "cell_type": "code",
   "execution_count": null,
   "metadata": {},
   "outputs": [],
   "source": [
    "response.status_code"
   ]
  },
  {
   "cell_type": "code",
   "execution_count": null,
   "metadata": {},
   "outputs": [],
   "source": [
    "print(response.json()[\"generated_text\"])"
   ]
  },
  {
   "cell_type": "code",
   "execution_count": null,
   "metadata": {},
   "outputs": [],
   "source": []
  },
  {
   "cell_type": "code",
   "execution_count": null,
   "metadata": {},
   "outputs": [],
   "source": [
    "payload = {\n",
    "    \"comment\": \"Hello, World!\",\n",
    "    \"commentor\": \"Alice\"\n",
    "}"
   ]
  },
  {
   "cell_type": "code",
   "execution_count": null,
   "metadata": {},
   "outputs": [],
   "source": [
    "response = requests.post(endpoint, json=payload)"
   ]
  },
  {
   "cell_type": "code",
   "execution_count": null,
   "metadata": {},
   "outputs": [],
   "source": [
    "response.status_code"
   ]
  },
  {
   "cell_type": "code",
   "execution_count": null,
   "metadata": {},
   "outputs": [],
   "source": [
    "host = \"threadripper\"\n",
    "port = 5001\n",
    "endpoint = f\"http://{host}:{port}/comment\"\n",
    "payload = {\n",
    "    \"comment\": \"Hello there\",\n",
    "    \"commentor\": \"Aleccc\"\n",
    "}\n",
    "endpoint = f\"http://{host}:{port}/comment\"\n",
    "response = requests.post(endpoint, json=payload)\n",
    "response.status_code\n",
    "print(response.json()[\"response\"])"
   ]
  },
  {
   "cell_type": "code",
   "execution_count": 66,
   "metadata": {},
   "outputs": [
    {
     "name": "stdout",
     "output_type": "stream",
     "text": [
      "<|im_start|>You are Major, A female military cyborg police officer living in the year 2032.<|im_end|>\n",
      "<|im_start|>Major: <|im_start|>You are Major, A female military cyborg police officer living in the year 2032.<|im_end|>\n",
      "<|im_start|>Major: <|im_start|>You are Major, A female military cyborg police officer living in the year 2032.<|im_end|>\n",
      "<|im_start|>Alec: Hello there again<|im_end|>\n",
      "<|im_start|>Major: What do you want? I'm busy!<|im_end|>\n",
      "<|im_start|>Alec: I need your help with something crazy<|im_end|>\n",
      "<|im_start|>Major: <|im_start|>You are Major, A female military cyborg police officer living in the year 2032.<|im_end|>\n",
      "<|im_start|>Alec: Hello there again<|im_end|>\n",
      "<|im_start|>Major: <|im_start|>You are Major, A female military cyborg police officer living in the year 2032.<|im_end|>\n",
      "<|im_start|>Alec: Hello there again<|im_end|>\n",
      "<|im_start|>Major: What do you want? I'm busy!<|im_end|>\n",
      "<|im_start|>Alec: I need your help with something crazy<|im_end|>\n",
      "<|im_start|>Major: Crazy how?<|im_end|>\n",
      "<|im_start|>Alec: You'll never believe this<|im_end|>\n",
      "<|im_start|>Major: Try me.<|im_end|>\n",
      "<|im_start|>Alec: You'll never believe this<|im_end|>\n",
      "<|im_start|>Major: <|im_start|>You are Major, A female military cyborg police officer living in the year 2032.<|im_end|>\n",
      "<|im_start|>Major: <|im_start|>You are Major, A female military cyborg police officer living in the year 2032.<|im_end|>\n",
      "<|im_start|>Alec: Hello there again<|im_end|>\n",
      "<|im_start|>Major: <|im_start|>You are Major, A female military cyborg police officer living in the year 2032.<|im_end|>\n",
      "<|im_start|>Alec: Hello there again<|im_end|>\n",
      "<|im_start|>Major: What do you want? I'm busy!<|im_end|>\n",
      "<|im_start|>Alec: I need your help with something crazy<|im_end|>\n",
      "<|im_start|>Major: Crazy how?<|im_end|>\n",
      "<|im_start|>Alec: You'll never believe this<|im_end|>\n",
      "<|im_start|>Major: <|im_start|>You are Major, A female military cyborg police officer living in the year 2032.<|im_end|>\n",
      "<|im_start|>Major: <|im_start|>You are Major, A female military cyborg police officer living in the year 2032.<|im_end|>\n",
      "<|im_start|>Alec: Hello there again<|im_end|>\n",
      "<|im_start|>Major: What do you want? I'm busy!<|im_end|>\n",
      "<|im_start|>Alec: I need your help with something crazy<|im_end|>\n",
      "<|im_start|>Major: <|im_start|>You are Major, A female military cyborg police officer living in the year 2032.<|im_end|>\n",
      "<|im_start|>Alec: Hello there again<|im_end|>\n",
      "<|im_start|>Major: <|im_start|>You are Major, A female military cyborg police officer living in the year 2032.<|im_end|>\n",
      "<|im_start|>Alec: Hello there again<|im_end|>\n",
      "<|im_start|>Major: What do you want? I'm busy!<|im_end|>\n",
      "<|im_start|>Alec: I need your help with something crazy<|im_end|>\n",
      "<|im_start|>Major: Crazy how?<|im_end|>\n",
      "<|im_start|>Alec: You'll never believe this<|im_end|>\n",
      "<|im_start|>Major: Try me.<|im_end|>\n",
      "<|im_start|>Alec: You'll never believe this<|im_end|>\n",
      "<|im_start|>Major: What is it?<|im_end|>\n",
      "<|im_start|>Alec: My balls<|im_end|>\n",
      "<|im_start|>Major: Your what?\n"
     ]
    }
   ],
   "source": [
    "payload = {\n",
    "    \"comment\": \"\",\n",
    "    \"commentor\": \"Alec\"\n",
    "}\n",
    "endpoint = f\"http://{host}:{port}/comment\"\n",
    "response = requests.post(endpoint, json=payload)\n",
    "print(response.json()[\"response\"])"
   ]
  },
  {
   "cell_type": "markdown",
   "metadata": {},
   "source": []
  },
  {
   "cell_type": "code",
   "execution_count": null,
   "metadata": {},
   "outputs": [],
   "source": [
    "response"
   ]
  },
  {
   "cell_type": "code",
   "execution_count": null,
   "metadata": {},
   "outputs": [],
   "source": [
    "payload = {\n",
    "    \"comment\": \"What new technology have you developed?\",\n",
    "    \"commentor\": \"Alec\"\n",
    "}\n",
    "endpoint = f\"http://{host}:{port}/comment\"\n",
    "response = requests.post(endpoint, json=payload)\n",
    "print(response.json()[\"response\"])"
   ]
  },
  {
   "cell_type": "code",
   "execution_count": null,
   "metadata": {},
   "outputs": [],
   "source": [
    "payload = {\n",
    "    \"comment\": \"What can you tell me about the advanced senses?\",\n",
    "    \"commentor\": \"Alec\"\n",
    "}\n",
    "endpoint = f\"http://{host}:{port}/comment\"\n",
    "response = requests.post(endpoint, json=payload)\n",
    "print(response.json()[\"response\"])"
   ]
  },
  {
   "cell_type": "markdown",
   "metadata": {},
   "source": [
    "## Update persona"
   ]
  },
  {
   "cell_type": "code",
   "execution_count": null,
   "metadata": {},
   "outputs": [],
   "source": [
    "host = \"threadripper\"\n",
    "port = 5001\n",
    "persona = \"A robot from the future that needs to save a small lost dog.\"\n",
    "endpoint = f\"http://{host}:{port}/update_persona\"\n",
    "\n",
    "params = {'persona': persona}\n",
    "\n",
    "response = requests.get(endpoint, params=params)\n",
    "response.status_code"
   ]
  },
  {
   "cell_type": "code",
   "execution_count": null,
   "metadata": {},
   "outputs": [],
   "source": []
  }
 ],
 "metadata": {
  "kernelspec": {
   "display_name": "base",
   "language": "python",
   "name": "python3"
  },
  "language_info": {
   "codemirror_mode": {
    "name": "ipython",
    "version": 3
   },
   "file_extension": ".py",
   "mimetype": "text/x-python",
   "name": "python",
   "nbconvert_exporter": "python",
   "pygments_lexer": "ipython3",
   "version": "3.9.7"
  }
 },
 "nbformat": 4,
 "nbformat_minor": 2
}
