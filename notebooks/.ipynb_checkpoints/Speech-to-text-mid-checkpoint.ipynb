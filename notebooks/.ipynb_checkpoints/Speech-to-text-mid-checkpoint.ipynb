{
 "cells": [
  {
   "cell_type": "code",
   "execution_count": null,
   "id": "bfb1e356",
   "metadata": {},
   "outputs": [],
   "source": [
    "#!ls /opt/conda/lib/libcud*"
   ]
  },
  {
   "cell_type": "code",
   "execution_count": null,
   "id": "4ff342c9",
   "metadata": {},
   "outputs": [],
   "source": [
    "!export LD_LIBRARY_PATH=$LD_LIBRARY_PATH:/opt/conda/lib/libcudart.so"
   ]
  },
  {
   "cell_type": "code",
   "execution_count": null,
   "id": "7abaa46c",
   "metadata": {},
   "outputs": [],
   "source": [
    "!ls /opt/conda/lib/python3.10/site-packages/bitsandbytes/"
   ]
  },
  {
   "cell_type": "code",
   "execution_count": null,
   "id": "4059e179",
   "metadata": {},
   "outputs": [],
   "source": [
    "!cp /opt/conda/lib/python3.10/site-packages/bitsandbytes/libbitsandbytes_cuda118.so /opt/conda/lib/python3.10/site-packages/bitsandbytes/libbitsandbytes_cpu.so"
   ]
  },
  {
   "cell_type": "code",
   "execution_count": null,
   "id": "3a93ef07",
   "metadata": {},
   "outputs": [],
   "source": [
    "# Ignore warnings\n",
    "import warnings\n",
    "warnings.filterwarnings('ignore')"
   ]
  },
  {
   "cell_type": "code",
   "execution_count": null,
   "id": "a06ddae4",
   "metadata": {},
   "outputs": [],
   "source": [
    "# Auto reload imports\n",
    "%load_ext autoreload\n",
    "%autoreload 2"
   ]
  },
  {
   "cell_type": "code",
   "execution_count": null,
   "id": "8a16cc79",
   "metadata": {},
   "outputs": [],
   "source": [
    "#!pip install -r requirements_1.txt"
   ]
  },
  {
   "cell_type": "code",
   "execution_count": null,
   "id": "49e13027",
   "metadata": {},
   "outputs": [],
   "source": [
    "import nltk\n",
    "nltk.download('punkt')\n",
    "nltk.download('averaged_perceptron_tagger')"
   ]
  },
  {
   "cell_type": "code",
   "execution_count": null,
   "id": "f2d10b84",
   "metadata": {},
   "outputs": [],
   "source": [
    "import os\n",
    "os.environ['LD_LIBRARY_PATH'] = '/opt/conda/lib/'"
   ]
  },
  {
   "cell_type": "code",
   "execution_count": null,
   "id": "6c0ac375",
   "metadata": {},
   "outputs": [],
   "source": [
    "#!pip uninstall -y torch"
   ]
  },
  {
   "cell_type": "code",
   "execution_count": null,
   "id": "a8650f24",
   "metadata": {},
   "outputs": [],
   "source": [
    "#!pip uninstall -y torchaudio"
   ]
  },
  {
   "cell_type": "code",
   "execution_count": null,
   "id": "85a0dd3c",
   "metadata": {},
   "outputs": [],
   "source": [
    "#!pip install torch torchvision torchaudio --index-url https://download.pytorch.org/whl/cu118"
   ]
  },
  {
   "cell_type": "code",
   "execution_count": null,
   "id": "130cb7cc",
   "metadata": {},
   "outputs": [],
   "source": []
  },
  {
   "cell_type": "markdown",
   "id": "55bf6fee",
   "metadata": {},
   "source": [
    "Version Check"
   ]
  },
  {
   "cell_type": "code",
   "execution_count": null,
   "id": "b374c6af",
   "metadata": {},
   "outputs": [],
   "source": [
    "#!pip install --upgrade google-api-python-client\n"
   ]
  },
  {
   "cell_type": "code",
   "execution_count": 1,
   "id": "f8d8b209",
   "metadata": {},
   "outputs": [],
   "source": [
    "\n",
    "import IPython\n",
    "import torch\n",
    "import torchaudio\n",
    "import transformers"
   ]
  },
  {
   "cell_type": "code",
   "execution_count": 2,
   "id": "9c1b995b",
   "metadata": {},
   "outputs": [
    {
     "name": "stdout",
     "output_type": "stream",
     "text": [
      "torch.__version__ = '2.0.1+cu118'\n"
     ]
    }
   ],
   "source": [
    "print (f\"{torch.__version__ = }\")"
   ]
  },
  {
   "cell_type": "code",
   "execution_count": 3,
   "id": "36798bc7",
   "metadata": {},
   "outputs": [
    {
     "data": {
      "text/plain": [
       "'2.0.2+cu118'"
      ]
     },
     "execution_count": 3,
     "metadata": {},
     "output_type": "execute_result"
    }
   ],
   "source": [
    "torchaudio.__version__"
   ]
  },
  {
   "cell_type": "code",
   "execution_count": 4,
   "id": "c30734e6",
   "metadata": {},
   "outputs": [
    {
     "name": "stdout",
     "output_type": "stream",
     "text": [
      "transformers.__version__ = '4.31.0.dev0'\n"
     ]
    }
   ],
   "source": [
    "print (f\"{transformers.__version__ = }\")"
   ]
  },
  {
   "cell_type": "code",
   "execution_count": 5,
   "id": "d284a77d",
   "metadata": {},
   "outputs": [
    {
     "name": "stdout",
     "output_type": "stream",
     "text": [
      "torch.cuda.is_available() = True\n"
     ]
    }
   ],
   "source": [
    "print (f\"{torch.cuda.is_available() = }\")\n"
   ]
  },
  {
   "cell_type": "code",
   "execution_count": 6,
   "id": "54a580e1",
   "metadata": {},
   "outputs": [
    {
     "name": "stdout",
     "output_type": "stream",
     "text": [
      "torch.version.cuda = '11.8'\n"
     ]
    }
   ],
   "source": [
    "print (f\"{torch.version.cuda = }\")"
   ]
  },
  {
   "cell_type": "code",
   "execution_count": 7,
   "id": "d5f41b88",
   "metadata": {},
   "outputs": [
    {
     "name": "stdout",
     "output_type": "stream",
     "text": [
      "torch.cuda.get_device_name(0) = 'NVIDIA GeForce RTX 3090 Ti'\n"
     ]
    }
   ],
   "source": [
    "print (f\"{torch.cuda.get_device_name(0) = }\")"
   ]
  },
  {
   "cell_type": "code",
   "execution_count": 8,
   "id": "17877f3f",
   "metadata": {},
   "outputs": [],
   "source": [
    "assert torch.cuda.is_available()"
   ]
  },
  {
   "cell_type": "code",
   "execution_count": 9,
   "id": "2bb14b0b",
   "metadata": {},
   "outputs": [],
   "source": [
    "#!pip install datasets"
   ]
  },
  {
   "cell_type": "code",
   "execution_count": 10,
   "id": "75b34ec0",
   "metadata": {},
   "outputs": [],
   "source": [
    "#!pip install soundfile"
   ]
  },
  {
   "cell_type": "code",
   "execution_count": 11,
   "id": "89ede365",
   "metadata": {},
   "outputs": [],
   "source": [
    "#!pip install librosa"
   ]
  },
  {
   "cell_type": "code",
   "execution_count": 12,
   "id": "d82f53f7",
   "metadata": {},
   "outputs": [],
   "source": [
    "#!pip install evaluate jiwer\n"
   ]
  },
  {
   "cell_type": "code",
   "execution_count": 13,
   "id": "22be18cb",
   "metadata": {},
   "outputs": [],
   "source": [
    "\n",
    "import numpy as np\n",
    "from copy import copy\n",
    "from typing import List\n",
    "import IPython\n",
    "import transformers\n",
    "from datetime import datetime\n",
    "from numpy.random import random\n",
    "from color import Color\n",
    "\n",
    "#import torchaudio\n",
    "#import IPython.display as ipd\n",
    "\n",
    "from sentiment import Sentiment, SentimentScore\n",
    "from conversation import Conversation"
   ]
  },
  {
   "cell_type": "code",
   "execution_count": 38,
   "id": "f80fa0d0",
   "metadata": {},
   "outputs": [],
   "source": [
    "\n",
    "import soundfile as sf\n",
    "import evaluate\n",
    "import numpy as np\n",
    "\n",
    "from datasets import load_dataset\n",
    "from datasets import Audio\n",
    "\n",
    "from transformers import pipeline\n",
    "from transformers import AutoFeatureExtractor\n",
    "from transformers import Speech2Text2Processor\n",
    "from transformers import SpeechEncoderDecoderModel\n",
    "from transformers import Speech2TextForConditionalGeneration\n",
    "\n"
   ]
  },
  {
   "cell_type": "code",
   "execution_count": 15,
   "id": "3a6aa705",
   "metadata": {},
   "outputs": [
    {
     "name": "stderr",
     "output_type": "stream",
     "text": [
      "You are using a model of type speech-encoder-decoder to instantiate a model of type speech_to_text. This is not supported for all configurations of models and can yield errors.\n",
      "Some weights of Speech2TextForConditionalGeneration were not initialized from the model checkpoint at facebook/s2t-wav2vec2-large-en-de and are newly initialized: ['decoder.layers.0.self_attn_layer_norm.bias', 'decoder.layers.3.self_attn.q_proj.bias', 'encoder.layers.10.fc2.bias', 'encoder.layers.8.self_attn.out_proj.weight', 'encoder.layers.9.self_attn.out_proj.bias', 'decoder.layers.3.self_attn.out_proj.bias', 'encoder.layers.0.fc1.bias', 'encoder.layers.0.self_attn_layer_norm.bias', 'decoder.layers.0.final_layer_norm.bias', 'encoder.layers.7.fc2.weight', 'encoder.layers.9.fc1.weight', 'decoder.layers.3.fc1.weight', 'encoder.layers.2.fc2.bias', 'encoder.layers.9.self_attn.q_proj.weight', 'encoder.layers.0.fc2.bias', 'decoder.layers.0.encoder_attn.k_proj.bias', 'encoder.layers.2.self_attn.v_proj.bias', 'encoder.layers.7.self_attn.v_proj.bias', 'encoder.layers.8.self_attn.q_proj.bias', 'decoder.layers.5.self_attn.out_proj.bias', 'decoder.layers.4.self_attn.out_proj.bias', 'decoder.layers.5.encoder_attn.out_proj.weight', 'decoder.layers.1.final_layer_norm.bias', 'decoder.layers.1.encoder_attn.out_proj.bias', 'encoder.layers.5.self_attn.k_proj.weight', 'encoder.layers.7.self_attn.q_proj.bias', 'decoder.layers.5.self_attn.out_proj.weight', 'encoder.layers.7.final_layer_norm.weight', 'encoder.layers.8.final_layer_norm.bias', 'encoder.layers.9.self_attn.q_proj.bias', 'encoder.layers.3.fc2.weight', 'decoder.layers.3.encoder_attn.k_proj.weight', 'encoder.layers.0.self_attn.k_proj.weight', 'encoder.layers.3.fc2.bias', 'decoder.layers.2.encoder_attn.v_proj.weight', 'encoder.layers.8.self_attn.k_proj.bias', 'decoder.layers.0.self_attn.k_proj.bias', 'decoder.layers.4.self_attn_layer_norm.bias', 'decoder.layers.3.final_layer_norm.weight', 'encoder.layers.11.self_attn.q_proj.weight', 'encoder.layers.8.fc1.weight', 'decoder.layers.2.self_attn_layer_norm.bias', 'encoder.layers.4.final_layer_norm.weight', 'encoder.layers.11.self_attn_layer_norm.weight', 'decoder.layers.4.encoder_attn.v_proj.bias', 'encoder.conv.conv_layers.0.bias', 'decoder.layers.1.encoder_attn.v_proj.weight', 'encoder.layers.9.self_attn.k_proj.bias', 'encoder.layers.1.self_attn_layer_norm.bias', 'encoder.layers.5.fc2.weight', 'encoder.layers.10.self_attn_layer_norm.bias', 'encoder.layers.11.self_attn.k_proj.bias', 'encoder.layers.2.self_attn.q_proj.weight', 'decoder.layers.2.encoder_attn.q_proj.bias', 'encoder.layers.6.self_attn.v_proj.bias', 'decoder.layers.0.self_attn_layer_norm.weight', 'encoder.layers.1.self_attn.k_proj.bias', 'decoder.layers.4.self_attn.k_proj.bias', 'encoder.layers.11.fc1.weight', 'encoder.layers.7.fc1.bias', 'encoder.layers.10.self_attn.v_proj.bias', 'encoder.layers.0.self_attn_layer_norm.weight', 'decoder.layers.5.encoder_attn.q_proj.bias', 'decoder.layers.3.encoder_attn.q_proj.weight', 'encoder.layers.8.self_attn_layer_norm.weight', 'decoder.layers.2.self_attn.out_proj.weight', 'encoder.layers.5.self_attn_layer_norm.bias', 'decoder.layers.2.fc1.bias', 'decoder.layers.1.encoder_attn_layer_norm.bias', 'decoder.layers.2.encoder_attn.v_proj.bias', 'encoder.layers.3.self_attn.v_proj.bias', 'encoder.layers.10.fc1.bias', 'decoder.layers.4.self_attn_layer_norm.weight', 'decoder.layers.3.fc1.bias', 'decoder.layers.4.encoder_attn.out_proj.weight', 'encoder.layers.7.self_attn.out_proj.bias', 'decoder.layers.3.encoder_attn.v_proj.weight', 'decoder.layers.5.final_layer_norm.weight', 'decoder.layers.5.final_layer_norm.bias', 'decoder.layers.5.encoder_attn_layer_norm.bias', 'encoder.layers.4.self_attn.out_proj.weight', 'encoder.layers.11.self_attn.out_proj.bias', 'decoder.layers.3.encoder_attn.out_proj.bias', 'decoder.layers.3.encoder_attn_layer_norm.bias', 'encoder.layers.4.self_attn.k_proj.weight', 'decoder.layers.4.encoder_attn.k_proj.bias', 'encoder.layers.10.self_attn.out_proj.weight', 'encoder.layers.5.self_attn.q_proj.weight', 'encoder.layers.2.self_attn.out_proj.weight', 'decoder.layers.4.final_layer_norm.weight', 'decoder.layers.0.fc2.weight', 'encoder.layers.3.self_attn_layer_norm.weight', 'decoder.layers.0.self_attn.q_proj.weight', 'encoder.layers.0.self_attn.k_proj.bias', 'decoder.layers.3.self_attn_layer_norm.bias', 'decoder.embed_tokens.weight', 'encoder.layers.2.self_attn.out_proj.bias', 'encoder.layers.3.final_layer_norm.bias', 'decoder.layers.1.fc1.bias', 'decoder.layers.4.fc2.bias', 'decoder.layers.5.encoder_attn.q_proj.weight', 'decoder.layers.4.encoder_attn_layer_norm.weight', 'decoder.layers.0.self_attn.v_proj.bias', 'encoder.layers.3.final_layer_norm.weight', 'encoder.layers.9.final_layer_norm.weight', 'decoder.layers.5.fc2.bias', 'encoder.layers.5.self_attn.v_proj.weight', 'encoder.layers.10.self_attn.q_proj.weight', 'encoder.layers.8.final_layer_norm.weight', 'encoder.layers.9.self_attn.out_proj.weight', 'decoder.layers.4.self_attn.q_proj.bias', 'encoder.layers.9.final_layer_norm.bias', 'encoder.layers.6.fc2.bias', 'decoder.layers.3.encoder_attn.v_proj.bias', 'encoder.layers.4.fc2.weight', 'encoder.layers.9.self_attn.k_proj.weight', 'encoder.layers.2.self_attn_layer_norm.weight', 'encoder.layers.0.final_layer_norm.bias', 'encoder.layers.8.fc2.bias', 'decoder.layers.5.self_attn_layer_norm.weight', 'encoder.layers.10.self_attn.q_proj.bias', 'encoder.layers.7.fc1.weight', 'decoder.layers.0.encoder_attn.out_proj.bias', 'encoder.layers.4.fc2.bias', 'decoder.layers.2.fc2.weight', 'decoder.layers.0.encoder_attn.q_proj.bias', 'decoder.layers.1.self_attn_layer_norm.bias', 'encoder.layers.6.self_attn.k_proj.bias', 'encoder.layers.6.final_layer_norm.bias', 'decoder.layers.0.fc1.weight', 'decoder.layers.0.encoder_attn.out_proj.weight', 'encoder.conv.conv_layers.1.weight', 'decoder.layers.2.encoder_attn.k_proj.weight', 'encoder.layers.10.self_attn.k_proj.bias', 'encoder.layers.6.fc2.weight', 'encoder.layers.3.self_attn_layer_norm.bias', 'decoder.layers.2.self_attn.v_proj.weight', 'encoder.layer_norm.bias', 'encoder.layers.10.self_attn.k_proj.weight', 'encoder.layers.8.self_attn_layer_norm.bias', 'encoder.layers.4.fc1.weight', 'decoder.layers.3.fc2.weight', 'encoder.layers.10.self_attn_layer_norm.weight', 'decoder.layers.4.self_attn.k_proj.weight', 'decoder.layers.2.fc1.weight', 'encoder.layers.10.self_attn.v_proj.weight', 'encoder.layers.9.self_attn.v_proj.bias', 'decoder.layers.3.fc2.bias', 'encoder.layers.0.self_attn.v_proj.bias', 'decoder.layers.2.self_attn.q_proj.weight', 'decoder.layers.3.self_attn_layer_norm.weight', 'decoder.layers.1.self_attn.q_proj.weight', 'encoder.layers.5.final_layer_norm.bias', 'encoder.layers.1.fc2.weight', 'decoder.layers.2.encoder_attn_layer_norm.bias', 'decoder.layers.0.self_attn.out_proj.weight', 'encoder.layers.11.self_attn.k_proj.weight', 'decoder.layers.1.encoder_attn.out_proj.weight', 'decoder.layers.3.final_layer_norm.bias', 'decoder.layers.4.encoder_attn.q_proj.bias', 'decoder.layers.5.encoder_attn_layer_norm.weight', 'decoder.layers.1.fc1.weight', 'encoder.layers.3.self_attn.q_proj.bias', 'decoder.layers.4.self_attn.v_proj.weight', 'encoder.layers.1.self_attn.out_proj.weight', 'encoder.layers.7.self_attn.out_proj.weight', 'decoder.layers.0.self_attn.out_proj.bias', 'encoder.layers.11.self_attn.out_proj.weight', 'encoder.layers.7.self_attn.k_proj.bias', 'decoder.layers.1.self_attn.k_proj.weight', 'decoder.layers.1.encoder_attn.k_proj.bias', 'decoder.layers.3.encoder_attn.k_proj.bias', 'encoder.layers.7.final_layer_norm.bias', 'encoder.layers.5.self_attn.k_proj.bias', 'decoder.layers.3.self_attn.k_proj.bias', 'encoder.layers.10.self_attn.out_proj.bias', 'decoder.layers.3.self_attn.out_proj.weight', 'decoder.layers.4.fc1.bias', 'encoder.layers.6.fc1.weight', 'encoder.layers.9.fc1.bias', 'decoder.layers.4.self_attn.v_proj.bias', 'encoder.layers.1.fc1.weight', 'encoder.layers.1.final_layer_norm.bias', 'encoder.layers.4.self_attn.out_proj.bias', 'encoder.layers.2.self_attn.v_proj.weight', 'decoder.layers.2.self_attn_layer_norm.weight', 'encoder.layers.11.self_attn.v_proj.bias', 'encoder.layers.2.fc2.weight', 'encoder.layers.5.self_attn.v_proj.bias', 'decoder.layers.1.encoder_attn.q_proj.weight', 'encoder.layers.6.self_attn.k_proj.weight', 'decoder.layers.1.fc2.weight', 'decoder.layers.4.fc2.weight', 'decoder.layers.1.encoder_attn.v_proj.bias', 'encoder.layers.5.self_attn_layer_norm.weight', 'encoder.layers.11.final_layer_norm.bias', 'decoder.layers.5.self_attn.v_proj.bias', 'encoder.layers.0.self_attn.out_proj.bias', 'encoder.layers.0.self_attn.out_proj.weight', 'encoder.layers.1.self_attn_layer_norm.weight', 'decoder.layers.4.self_attn.q_proj.weight', 'decoder.layers.4.fc1.weight', 'encoder.layers.4.self_attn.v_proj.weight', 'decoder.layers.5.fc2.weight', 'decoder.layer_norm.bias', 'encoder.layers.4.self_attn.q_proj.weight', 'encoder.layers.8.fc1.bias', 'decoder.layers.5.self_attn.v_proj.weight', 'encoder.layers.5.fc2.bias', 'decoder.layers.4.encoder_attn.out_proj.bias', 'decoder.layers.4.encoder_attn_layer_norm.bias', 'decoder.layers.4.final_layer_norm.bias', 'decoder.layers.4.encoder_attn.k_proj.weight', 'encoder.layers.4.self_attn.q_proj.bias', 'encoder.layers.2.fc1.weight', 'encoder.conv.conv_layers.0.weight', 'encoder.layers.8.self_attn.q_proj.weight', 'encoder.layers.10.final_layer_norm.bias', 'decoder.layer_norm.weight', 'encoder.layers.9.self_attn_layer_norm.weight', 'encoder.layers.3.self_attn.out_proj.bias', 'decoder.embed_positions.weights', 'encoder.layers.1.self_attn.v_proj.bias', 'encoder.layers.0.fc2.weight', 'decoder.layers.2.encoder_attn.out_proj.weight', 'encoder.layers.4.self_attn.v_proj.bias', 'encoder.layers.6.self_attn.out_proj.weight', 'encoder.layers.8.self_attn.v_proj.bias', 'encoder.layers.6.self_attn_layer_norm.weight', 'encoder.layers.5.self_attn.out_proj.weight', 'encoder.layers.2.final_layer_norm.weight', 'encoder.layers.0.self_attn.q_proj.bias', 'encoder.layers.10.fc1.weight', 'encoder.layers.5.final_layer_norm.weight', 'encoder.layers.4.final_layer_norm.bias', 'encoder.layers.7.self_attn.q_proj.weight', 'encoder.layers.8.self_attn.out_proj.bias', 'encoder.layers.11.fc2.weight', 'encoder.layers.2.fc1.bias', 'encoder.layers.9.fc2.bias', 'encoder.layers.6.self_attn.q_proj.bias', 'decoder.layers.3.self_attn.v_proj.weight', 'encoder.layers.0.self_attn.q_proj.weight', 'decoder.layers.3.self_attn.q_proj.weight', 'decoder.layers.1.self_attn.q_proj.bias', 'encoder.layers.1.self_attn.k_proj.weight', 'decoder.layers.0.encoder_attn_layer_norm.weight', 'decoder.layers.3.self_attn.k_proj.weight', 'decoder.layers.0.encoder_attn.v_proj.bias', 'decoder.layers.1.fc2.bias', 'encoder.layers.7.self_attn_layer_norm.weight', 'encoder.layers.2.self_attn_layer_norm.bias', 'encoder.layers.4.self_attn.k_proj.bias', 'decoder.layers.2.fc2.bias', 'encoder.layers.10.final_layer_norm.weight', 'encoder.layers.1.fc2.bias', 'decoder.layers.0.self_attn.v_proj.weight', 'decoder.layers.2.self_attn.k_proj.weight', 'decoder.layers.2.self_attn.v_proj.bias', 'lm_head.weight', 'decoder.layers.0.final_layer_norm.weight', 'encoder.layers.7.self_attn_layer_norm.bias', 'encoder.layers.11.self_attn.v_proj.weight', 'encoder.layers.4.self_attn_layer_norm.bias', 'decoder.layers.5.self_attn.q_proj.weight', 'decoder.layers.5.encoder_attn.v_proj.bias', 'decoder.layers.3.encoder_attn.q_proj.bias', 'encoder.layers.0.self_attn.v_proj.weight', 'decoder.layers.0.self_attn.q_proj.bias', 'decoder.layers.5.encoder_attn.v_proj.weight', 'encoder.layers.11.fc2.bias', 'decoder.layers.3.encoder_attn.out_proj.weight', 'decoder.layers.0.encoder_attn_layer_norm.bias', 'decoder.layers.1.self_attn.v_proj.weight', 'encoder.layers.11.fc1.bias', 'encoder.layers.1.self_attn.out_proj.bias', 'encoder.layers.6.self_attn.out_proj.bias', 'decoder.layers.5.fc1.weight', 'encoder.layers.4.fc1.bias', 'encoder.layers.3.self_attn.k_proj.weight', 'decoder.layers.5.self_attn.k_proj.weight', 'encoder.layers.1.self_attn.q_proj.bias', 'decoder.layers.0.self_attn.k_proj.weight', 'decoder.layers.4.self_attn.out_proj.weight', 'decoder.layers.0.encoder_attn.v_proj.weight', 'decoder.layers.5.self_attn_layer_norm.bias', 'encoder.layers.3.self_attn.out_proj.weight', 'encoder.conv.conv_layers.1.bias', 'encoder.layers.10.fc2.weight', 'encoder.layers.1.self_attn.q_proj.weight', 'encoder.layers.6.fc1.bias', 'decoder.layers.2.self_attn.q_proj.bias', 'encoder.layers.11.self_attn.q_proj.bias', 'encoder.layers.11.final_layer_norm.weight', 'encoder.embed_positions.weights', 'decoder.layers.1.encoder_attn.k_proj.weight', 'encoder.layers.3.self_attn.k_proj.bias', 'encoder.layers.5.self_attn.out_proj.bias', 'encoder.layers.7.self_attn.v_proj.weight', 'encoder.layers.9.self_attn_layer_norm.bias', 'decoder.layers.0.encoder_attn.q_proj.weight', 'encoder.layers.6.final_layer_norm.weight', 'decoder.layers.4.encoder_attn.q_proj.weight', 'decoder.layers.1.self_attn.v_proj.bias', 'encoder.layers.7.fc2.bias', 'encoder.layers.6.self_attn.v_proj.weight', 'encoder.layers.2.self_attn.q_proj.bias', 'encoder.layers.4.self_attn_layer_norm.weight', 'decoder.layers.2.final_layer_norm.bias', 'encoder.layers.5.self_attn.q_proj.bias', 'encoder.layers.2.self_attn.k_proj.weight', 'encoder.layers.5.fc1.bias', 'decoder.layers.2.final_layer_norm.weight', 'decoder.layers.0.fc1.bias', 'encoder.layers.1.fc1.bias', 'decoder.layers.5.encoder_attn.out_proj.bias', 'decoder.layers.5.fc1.bias', 'decoder.layers.2.encoder_attn_layer_norm.weight', 'encoder.layers.6.self_attn.q_proj.weight', 'encoder.layers.3.self_attn.v_proj.weight', 'encoder.layers.9.self_attn.v_proj.weight', 'decoder.layers.5.encoder_attn.k_proj.weight', 'decoder.layers.1.self_attn.k_proj.bias', 'decoder.layers.1.self_attn_layer_norm.weight', 'encoder.layers.3.fc1.bias', 'decoder.layers.0.encoder_attn.k_proj.weight', 'decoder.layers.5.self_attn.q_proj.bias', 'encoder.layers.8.self_attn.v_proj.weight', 'encoder.layers.3.fc1.weight', 'encoder.layers.8.self_attn.k_proj.weight', 'encoder.layers.2.final_layer_norm.bias', 'encoder.layers.1.self_attn.v_proj.weight', 'encoder.layers.6.self_attn_layer_norm.bias', 'encoder.layers.2.self_attn.k_proj.bias', 'decoder.layers.2.self_attn.k_proj.bias', 'decoder.layers.3.encoder_attn_layer_norm.weight', 'encoder.layer_norm.weight', 'encoder.layers.9.fc2.weight', 'decoder.layers.5.self_attn.k_proj.bias', 'decoder.layers.2.encoder_attn.k_proj.bias', 'encoder.layers.5.fc1.weight', 'encoder.layers.0.final_layer_norm.weight', 'encoder.layers.3.self_attn.q_proj.weight', 'decoder.layers.0.fc2.bias', 'encoder.layers.1.final_layer_norm.weight', 'encoder.layers.8.fc2.weight', 'decoder.layers.4.encoder_attn.v_proj.weight', 'decoder.layers.2.encoder_attn.q_proj.weight', 'decoder.layers.2.self_attn.out_proj.bias', 'encoder.layers.7.self_attn.k_proj.weight', 'decoder.layers.2.encoder_attn.out_proj.bias', 'encoder.layers.11.self_attn_layer_norm.bias', 'decoder.layers.1.encoder_attn.q_proj.bias', 'decoder.layers.1.final_layer_norm.weight', 'decoder.layers.1.self_attn.out_proj.weight', 'decoder.layers.3.self_attn.v_proj.bias', 'encoder.layers.0.fc1.weight', 'decoder.layers.1.self_attn.out_proj.bias', 'decoder.layers.1.encoder_attn_layer_norm.weight', 'decoder.layers.5.encoder_attn.k_proj.bias']\n",
      "You should probably TRAIN this model on a down-stream task to be able to use it for predictions and inference.\n"
     ]
    }
   ],
   "source": [
    "model_name = \"facebook/s2t-wav2vec2-large-en-de\"\n",
    "model = Speech2TextForConditionalGeneration.from_pretrained(model_name)"
   ]
  },
  {
   "cell_type": "code",
   "execution_count": 16,
   "id": "63bc9c0c",
   "metadata": {},
   "outputs": [],
   "source": [
    "processor = Speech2TextProcessor.from_pretrained(\"facebook/s2t-small-librispeech-asr\")\n"
   ]
  },
  {
   "cell_type": "code",
   "execution_count": 17,
   "id": "a6ad3462",
   "metadata": {},
   "outputs": [],
   "source": [
    "def map_to_array(batch):\n",
    "    speech, _ = sf.read(batch[\"path\"])\n",
    "    batch[\"speech\"] = speech\n",
    "    return batch"
   ]
  },
  {
   "cell_type": "code",
   "execution_count": 18,
   "id": "e5186e88",
   "metadata": {},
   "outputs": [],
   "source": [
    "minds = load_dataset(\"PolyAI/minds14\", name=\"en-US\", split=\"train\")"
   ]
  },
  {
   "cell_type": "code",
   "execution_count": 19,
   "id": "a65f18a3",
   "metadata": {},
   "outputs": [
    {
     "data": {
      "text/plain": [
       "Dataset({\n",
       "    features: ['path', 'audio', 'transcription', 'english_transcription', 'intent_class', 'lang_id'],\n",
       "    num_rows: 563\n",
       "})"
      ]
     },
     "execution_count": 19,
     "metadata": {},
     "output_type": "execute_result"
    }
   ],
   "source": [
    "minds"
   ]
  },
  {
   "cell_type": "code",
   "execution_count": 20,
   "id": "96e508f6",
   "metadata": {},
   "outputs": [],
   "source": [
    "ds = minds.map(map_to_array)"
   ]
  },
  {
   "cell_type": "code",
   "execution_count": 21,
   "id": "f9a4e183",
   "metadata": {},
   "outputs": [],
   "source": [
    "ds = ds.remove_columns([\"path\", \"transcription\", \"english_transcription\", \"lang_id\"])\n"
   ]
  },
  {
   "cell_type": "code",
   "execution_count": 22,
   "id": "2185b298",
   "metadata": {},
   "outputs": [],
   "source": [
    "ds = ds.cast_column(\"audio\", Audio(sampling_rate=16_000))\n"
   ]
  },
  {
   "cell_type": "code",
   "execution_count": 23,
   "id": "816e9f6b",
   "metadata": {},
   "outputs": [],
   "source": [
    "ds = ds.rename_column(\"intent_class\", \"label\")\n"
   ]
  },
  {
   "cell_type": "code",
   "execution_count": 24,
   "id": "ace640be",
   "metadata": {},
   "outputs": [],
   "source": [
    "labels = ds.features[\"label\"].names\n"
   ]
  },
  {
   "cell_type": "code",
   "execution_count": 25,
   "id": "d331adf2",
   "metadata": {},
   "outputs": [],
   "source": [
    "label2id, id2label = dict(), dict()\n",
    "for i, label in enumerate(labels):\n",
    "    label2id[label] = str(i)\n",
    "    id2label[str(i)] = label"
   ]
  },
  {
   "cell_type": "code",
   "execution_count": 26,
   "id": "550ea9f9",
   "metadata": {},
   "outputs": [
    {
     "data": {
      "text/plain": [
       "{'0': 'abroad',\n",
       " '1': 'address',\n",
       " '2': 'app_error',\n",
       " '3': 'atm_limit',\n",
       " '4': 'balance',\n",
       " '5': 'business_loan',\n",
       " '6': 'card_issues',\n",
       " '7': 'cash_deposit',\n",
       " '8': 'direct_debit',\n",
       " '9': 'freeze',\n",
       " '10': 'high_value_payment',\n",
       " '11': 'joint_account',\n",
       " '12': 'latest_transactions',\n",
       " '13': 'pay_bill'}"
      ]
     },
     "execution_count": 26,
     "metadata": {},
     "output_type": "execute_result"
    }
   ],
   "source": [
    "id2label"
   ]
  },
  {
   "cell_type": "code",
   "execution_count": 27,
   "id": "47a0fe24",
   "metadata": {},
   "outputs": [],
   "source": []
  },
  {
   "cell_type": "code",
   "execution_count": 28,
   "id": "c9e09f75",
   "metadata": {},
   "outputs": [
    {
     "data": {
      "application/vnd.jupyter.widget-view+json": {
       "model_id": "1e949bec22c34598b1e8ad02615a937d",
       "version_major": 2,
       "version_minor": 0
      },
      "text/plain": [
       "Downloading (…)rocessor_config.json:   0%|          | 0.00/212 [00:00<?, ?B/s]"
      ]
     },
     "metadata": {},
     "output_type": "display_data"
    }
   ],
   "source": [
    "feature_extractor = AutoFeatureExtractor.from_pretrained(model_name)\n"
   ]
  },
  {
   "cell_type": "code",
   "execution_count": 39,
   "id": "3da3dcc4",
   "metadata": {},
   "outputs": [],
   "source": [
    "def preprocess_function(examples):\n",
    "    audio_arrays = [x[\"array\"] for x in examples[\"audio\"]]\n",
    "    inputs = feature_extractor(\n",
    "        audio_arrays, sampling_rate=feature_extractor.sampling_rate, max_length=16000, truncation=True\n",
    "    )\n",
    "    return inputs"
   ]
  },
  {
   "cell_type": "code",
   "execution_count": 40,
   "id": "50c582a3",
   "metadata": {},
   "outputs": [],
   "source": [
    "ds_T = ds.map(preprocess_function, remove_columns=\"audio\", batched=True)\n"
   ]
  },
  {
   "cell_type": "code",
   "execution_count": 41,
   "id": "693c9912",
   "metadata": {},
   "outputs": [],
   "source": [
    "\n",
    "\n",
    "\n",
    "accuracy = evaluate.load(\"accuracy\")\n"
   ]
  },
  {
   "cell_type": "code",
   "execution_count": null,
   "id": "decad9a1",
   "metadata": {},
   "outputs": [],
   "source": []
  },
  {
   "cell_type": "code",
   "execution_count": 42,
   "id": "86ad5d17",
   "metadata": {},
   "outputs": [],
   "source": [
    "def compute_metrics(eval_pred):\n",
    "    predictions = np.argmax(eval_pred.predictions, axis=1)\n",
    "    return accuracy.compute(predictions=predictions, references=eval_pred.label_ids)\n"
   ]
  },
  {
   "cell_type": "code",
   "execution_count": 43,
   "id": "59849e66",
   "metadata": {},
   "outputs": [],
   "source": [
    "audio_file = ds[0][\"audio\"][\"path\"]"
   ]
  },
  {
   "cell_type": "code",
   "execution_count": 44,
   "id": "3968ebf2",
   "metadata": {},
   "outputs": [
    {
     "data": {
      "text/plain": [
       "'/root/.cache/huggingface/datasets/downloads/extracted/a19fbc5032eacf25eab0097832db7b7f022b42104fbad6bd5765527704a428b9/en-US~JOINT_ACCOUNT/602ba55abb1e6d0fbce92065.wav'"
      ]
     },
     "execution_count": 44,
     "metadata": {},
     "output_type": "execute_result"
    }
   ],
   "source": [
    "audio_file"
   ]
  },
  {
   "cell_type": "code",
   "execution_count": null,
   "id": "eb2f3dd7",
   "metadata": {},
   "outputs": [],
   "source": []
  },
  {
   "cell_type": "code",
   "execution_count": null,
   "id": "6e63820c",
   "metadata": {},
   "outputs": [],
   "source": []
  },
  {
   "cell_type": "code",
   "execution_count": 45,
   "id": "36d72fd4",
   "metadata": {},
   "outputs": [],
   "source": [
    "classifier = pipeline(\"audio-classification\", model=\"stevhliu/my_awesome_minds_model\")\n"
   ]
  },
  {
   "cell_type": "code",
   "execution_count": 47,
   "id": "3a4ad569",
   "metadata": {},
   "outputs": [
    {
     "data": {
      "text/plain": [
       "[{'score': 0.09766871482133865, 'label': 'cash_deposit'},\n",
       " {'score': 0.07998877763748169, 'label': 'app_error'},\n",
       " {'score': 0.0781070739030838, 'label': 'joint_account'},\n",
       " {'score': 0.07667110115289688, 'label': 'pay_bill'},\n",
       " {'score': 0.07552522420883179, 'label': 'balance'}]"
      ]
     },
     "execution_count": 47,
     "metadata": {},
     "output_type": "execute_result"
    }
   ],
   "source": [
    "classifier(audio_file)\n"
   ]
  },
  {
   "cell_type": "code",
   "execution_count": null,
   "id": "aaec8d17",
   "metadata": {},
   "outputs": [],
   "source": []
  },
  {
   "cell_type": "code",
   "execution_count": null,
   "id": "50a5fd62",
   "metadata": {},
   "outputs": [],
   "source": []
  },
  {
   "cell_type": "code",
   "execution_count": null,
   "id": "10fc85f1",
   "metadata": {},
   "outputs": [],
   "source": []
  },
  {
   "cell_type": "code",
   "execution_count": null,
   "id": "3144cb35",
   "metadata": {},
   "outputs": [],
   "source": []
  },
  {
   "cell_type": "code",
   "execution_count": null,
   "id": "07860781",
   "metadata": {},
   "outputs": [],
   "source": []
  },
  {
   "cell_type": "code",
   "execution_count": null,
   "id": "139f924d",
   "metadata": {},
   "outputs": [],
   "source": []
  },
  {
   "cell_type": "code",
   "execution_count": null,
   "id": "ec2e73c3",
   "metadata": {},
   "outputs": [],
   "source": []
  },
  {
   "cell_type": "code",
   "execution_count": 48,
   "id": "47994800",
   "metadata": {},
   "outputs": [
    {
     "data": {
      "text/html": [
       "\n",
       "                <audio  controls=\"controls\" autoplay=\"autoplay\">\n",
       "                    <source src=\"data:audio/x-wav;base64,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\" type=\"audio/x-wav\" />\n",
       "                    Your browser does not support the audio element.\n",
       "                </audio>\n",
       "              "
      ],
      "text/plain": [
       "<IPython.lib.display.Audio object>"
      ]
     },
     "metadata": {},
     "output_type": "display_data"
    }
   ],
   "source": [
    "IPython.display.display(IPython.display.Audio(audio_file, rate=22050, autoplay=True))"
   ]
  },
  {
   "cell_type": "code",
   "execution_count": null,
   "id": "c154546a",
   "metadata": {},
   "outputs": [],
   "source": []
  }
 ],
 "metadata": {
  "kernelspec": {
   "display_name": "Python 3 (ipykernel)",
   "language": "python",
   "name": "python3"
  },
  "language_info": {
   "codemirror_mode": {
    "name": "ipython",
    "version": 3
   },
   "file_extension": ".py",
   "mimetype": "text/x-python",
   "name": "python",
   "nbconvert_exporter": "python",
   "pygments_lexer": "ipython3",
   "version": "3.10.11"
  },
  "toc": {
   "base_numbering": 1,
   "nav_menu": {},
   "number_sections": true,
   "sideBar": true,
   "skip_h1_title": false,
   "title_cell": "Table of Contents",
   "title_sidebar": "Contents",
   "toc_cell": false,
   "toc_position": {},
   "toc_section_display": true,
   "toc_window_display": false
  }
 },
 "nbformat": 4,
 "nbformat_minor": 5
}
