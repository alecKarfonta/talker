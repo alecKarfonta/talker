{
 "cells": [
  {
   "cell_type": "markdown",
   "id": "99ed6103",
   "metadata": {},
   "source": [
    "# Requirements"
   ]
  },
  {
   "cell_type": "code",
   "execution_count": null,
   "id": "5e579486",
   "metadata": {},
   "outputs": [],
   "source": [
    "!pip install yt_dlp"
   ]
  },
  {
   "cell_type": "code",
   "execution_count": 1,
   "id": "69de36b1",
   "metadata": {},
   "outputs": [],
   "source": [
    "#!pip install autosub\n",
    "#!pip install eyed3\n",
    "#!pip install hmmlearn\n",
    "#!pip install imblearn\n",
    "#!pip install plotly\n",
    "#!pip install pyAudioAnalysis\n",
    "#!pip install scikit-learn==1.2.0\n",
    "#!apt install portaudio19-dev python3-pyaudio -y\n",
    "#!pip install PyAudio\n",
    "#!pip install git+https://github.com/agermanidis/autosub.git\n"
   ]
  },
  {
   "cell_type": "code",
   "execution_count": 2,
   "id": "182eaa95",
   "metadata": {},
   "outputs": [
    {
     "name": "stdout",
     "output_type": "stream",
     "text": [
      "('3', '10', '11')\n"
     ]
    }
   ],
   "source": [
    "import platform\n",
    "print(platform.python_version_tuple())"
   ]
  },
  {
   "cell_type": "markdown",
   "id": "b1c89161",
   "metadata": {},
   "source": [
    "# Imports"
   ]
  },
  {
   "cell_type": "code",
   "execution_count": 3,
   "id": "745d75e9",
   "metadata": {},
   "outputs": [
    {
     "data": {
      "text/html": [
       "<style>#notification_trusted {\n",
       "    display: none;\n",
       "}\n",
       "\n",
       "\n",
       ".CodeMirror-sizer {\n",
       "    border-right-color: transparent;\n",
       "    margin-bottom: 0px !important;\n",
       "}\n",
       "\n",
       "div.output_prompt {\n",
       "    color: #ae81ff;\n",
       "    display: none !important;\n",
       "    \n",
       "}\n",
       "\n",
       "div.output_area {\n",
       "    width: 90%\n",
       "}\n",
       "\n",
       ".rendered_html table {\n",
       "    font-size: 14px;\n",
       "}\n",
       "\n",
       ".toc-item-highlight-select {\n",
       "    background-color: rgb(29 0 181) !important;\n",
       "}\n",
       "\n",
       ".toc-item-highlight-execute {\n",
       "    background-color: rgb(7 91 23) !important;\n",
       "}\n",
       "\n",
       "#toc li > span:hover {\n",
       "    background-color: rgb(0 104 186) !important;\n",
       "}\n",
       "\n",
       "\n",
       ".prompt {\n",
       "    display: none;\n",
       "}\n",
       "\n",
       "\n",
       "#toc-wrapper {\n",
       "    background-color: rgb(24, 26, 27);\n",
       "    margin-top: 1.4em;\n",
       "}\n",
       "\n",
       "/* Replace */\n",
       "\n",
       "img {\n",
       "    vertical-align: middle;\n",
       "    text-align: center;\n",
       "    float: left;\n",
       "    position: relative;\n",
       "    margin-left: auto;\n",
       "    margin-right: auto;\n",
       "    display: inherit;\n",
       "}</style>"
      ],
      "text/plain": [
       "<IPython.core.display.HTML object>"
      ]
     },
     "execution_count": 3,
     "metadata": {},
     "output_type": "execute_result"
    }
   ],
   "source": [
    "# Style overrides\n",
    "from IPython.core.display import HTML\n",
    "css = open(\"../../QA/overrides.css\", \"r\").readlines()\n",
    "css = \"\".join(css)\n",
    "css = f\"<style>{css}</style>\"\n",
    "HTML(css)"
   ]
  },
  {
   "cell_type": "code",
   "execution_count": 6,
   "id": "be57919f",
   "metadata": {},
   "outputs": [],
   "source": [
    "import yt_dlp\n",
    "import IPython\n",
    "import json\n",
    "import glob\n",
    "import os\n",
    "from pydub import AudioSegment\n",
    "import numpy as np\n",
    "from scipy.io import wavfile\n",
    "from plotly.offline import init_notebook_mode\n",
    "import plotly.graph_objs as go\n",
    "import plotly\n",
    "import pyaudio\n",
    "from scipy.io.wavfile import write\n",
    "\n",
    "import logging\n",
    "# Logging \n",
    "logging.basicConfig(\n",
    "     #filename='DockProc.log',\n",
    "     level=logging.DEBUG, \n",
    "     format= '[%(asctime)s] {%(lineno)d} %(levelname)s - %(message)s',\n",
    "     datefmt='%H:%M:%S'\n",
    " )\n",
    "logger = logging.getLogger(\"VoiceBox\")\n",
    "logger.setLevel(\"DEBUG\")\n",
    "\n",
    "URLS = [\n",
    "        'https://www.youtube.com/watch?v=bSZx0NPDxO8',\n",
    "        'https://www.youtube.com/watch?v=LxcDlA92fe0',\n",
    "        'https://www.youtube.com/watch?v=goSXxZNTTqo',\n",
    "        'https://www.youtube.com/watch?v=-95EQp4Ga4I',\n",
    "        'https://www.youtube.com/watch?v=vH8cQYe8r08',\n",
    "        'https://www.youtube.com/watch?v=aytpZ-n10tE',\n",
    "        'https://www.youtube.com/watch?v=VRfVDy3Z4Pc',\n",
    "        'https://www.youtube.com/watch?v=gpFd19Mtex4',\n",
    "        'https://youtu.be/To6oYwb9Pn8?list=PL1B858428E9405A2E', # History Channel : Mail Call - Jetpack\n",
    "        'https://youtu.be/S6sw6k0I_Po?list=PL1B858428E9405A2E', # History Channel : Mail Call - Shrapnel\n",
    "    'https://youtu.be/_mm4JcbiXmg?list=PL1B858428E9405A2E', # Mail Call Promo Busted\n",
    "    'https://youtu.be/YpOh699MPaQ?list=PL1B858428E9405A2E', # Mail Call - what doesn't get shown on TV\n",
    "    'https://youtu.be/DIVQYtBe9UY?list=PL1B858428E9405A2E', # Lock N' Load With R. Lee Ermey: Rockets to Rockets | History\n",
    "    'https://youtu.be/WAFnZkLZMkI?list=PL1B858428E9405A2E', # History Channel : Mail Call - .30 Caliber Browning Machine Gun (M1919)\n",
    "    'https://youtu.be/eHfqg1qpOd0?list=PL1B858428E9405A2E', # Mail Call - Roman balista\n",
    "    'https://youtu.be/n5A3422pO4M?list=PL1B858428E9405A2E', # History Channel : Mail Call - Tactical Operation Center\n",
    "    'https://youtu.be/RjXuRyIBejU', # Lock n Load Shotguns\n",
    "    'https://youtu.be/GL09sLcKW4M', # MG42 Machine Gun - \"Hitler's Buzz Saw\"\n",
    "    'https://youtu.be/Fxd_gVVKkmQ', # History Channel : Mail Call - Gunny's Crib\n",
    "    'https://youtu.be/EtH7uAwu6ok', # Gunny's Deal of the Day | Mail Call\n",
    "\n",
    "       ]\n",
    "\n",
    "filenames = [\n",
    "    \"\"\"Voice Showcase - ＂R. Lee Ermey＂ [bSZx0NPDxO8].m4a\"\"\",\n",
    "    \"\"\"History Channel's Mail Call ＂D-Day＂ hosted by R. Lee Ermey 4K HD [LxcDlA92fe0].m4a\"\"\",\n",
    "    \"\"\"Mail Call Lock N Load R Lee Ermey Snafu's Salty Bloopers\"\"\",\n",
    "    \"\"\"History Channel's Mail Call \"History of NORAD\" hosted by R. Lee Ermey 4K HD\"\"\",\n",
    "    \"\"\"History Channel's Mail Call \"Ermey's Biggest Bangs\" Hosted by R. Lee Ermey 4K HD\"\"\",\n",
    "    \"\"\"History Channel : Mail Call - 21 Gun Salute\"\"\",\n",
    "    \"\"\"Lock N' Load Ep. 2- History Of Tanks\"\"\",\n",
    "    \"\"\"Mail Call: V-22 Ofsprey\"\"\",\n",
    "    \"\"\"History Channel : Mail Call - Jetpack\"\"\",\n",
    "    \"\"\"Mail Call Promo Busted\"\"\",\n",
    "    \"\"\"Mail Call - what doesn't get shown on TV\"\"\",\n",
    "    \"\"\"History Channel : Mail Call - .30 Caliber Browning Machine Gun (M1919)\"\"\",\n",
    "    \"\"\"Mail Call - Roman balista\"\"\",\n",
    "    \"\"\"History Channel : Mail Call - Tactical Operation Center\"\"\",\n",
    "    \"\"\"Lock n Load Shotguns\"\"\",\n",
    "    \"\"\"MG42 Machine Gun - \"Hitler's Buzz Saw\"\"\",\n",
    "    \"\"\"History Channel : Mail Call - Gunny's Crib\"\"\"\n",
    "]\n",
    "\n",
    "URLS = [\"https://www.youtube.com/watch?v=k_0LU99jczk\"]"
   ]
  },
  {
   "cell_type": "code",
   "execution_count": 7,
   "id": "82de38ff",
   "metadata": {},
   "outputs": [],
   "source": [
    "\n",
    "def download_yt(url, output_path:str, file_prefix:str):\n",
    "    logger.debug(f\"download_yt({url= }, {output_path = }, {file_prefix = })\")\n",
    "\n",
    "    if \"?list\" in url:\n",
    "        url = url[0:url.index(\"?list\")]\n",
    "\n",
    "    output_path = f'{output_path}/{file_prefix}/{file_prefix}_{input_index}.m4a'\n",
    "    logger.debug(f\"download_yt(): Downloading {url} to {output_path}\")\n",
    "    \n",
    "\n",
    "    # Download youtube video\n",
    "    ydl_opts = {\n",
    "        'format': 'm4a/bestaudio/best/no-playlist',\n",
    "        'outtmpl': output_path,\n",
    "        #'outtmpl': 'autonumber', \n",
    "        #'output' : '--autonumber',\n",
    "        # ℹ️ See help(yt_dlp.postprocessor) for a list of available Postprocessors and their arguments\n",
    "        'postprocessors': [{  # Extract audio using ffmpeg\n",
    "            'key': 'FFmpegExtractAudio',\n",
    "            'preferredcodec': 'm4a',\n",
    "        }]\n",
    "    }\n",
    "\n",
    "    with yt_dlp.YoutubeDL(ydl_opts) as ydl:\n",
    "        error_code = ydl.download(url)\n",
    "        logging.debug(f\"download_yt(): {error_code = }\")\n",
    "        \n",
    "    return error_code\n",
    "\n",
    "\n",
    "def convert_mp4_to_wav(input_path, output_path, samplerate=44000):\n",
    "    os.system(f\"ffmpeg -i '{input_path}' -ac 1 -ar {samplerate} -f wav '{output_path}' -y\")\n",
    "    \n",
    "    \n",
    "def open_audio(filepath):\n",
    "    \n",
    "    pa = pyaudio.PyAudio()\n",
    "\n",
    "    fs_wav, data_wav = wavfile.read(f\"{filepath}\")\n",
    "    data_wav_norm = data_wav / (2**15)\n",
    "    time_wav = np.arange(0, len(data_wav)) / fs_wav\n",
    "    \n",
    "    return fs_wav, data_wav"
   ]
  },
  {
   "cell_type": "markdown",
   "id": "d3550599",
   "metadata": {},
   "source": [
    "# Youtube"
   ]
  },
  {
   "cell_type": "code",
   "execution_count": 8,
   "id": "83cf1c06",
   "metadata": {},
   "outputs": [],
   "source": [
    "\n",
    "logging.getLogger('ffmpeg').setLevel(logging.DEBUG)\n",
    "logging.getLogger('FixupM4a').setLevel(logging.DEBUG)\n"
   ]
  },
  {
   "cell_type": "code",
   "execution_count": null,
   "id": "7e593ac3",
   "metadata": {},
   "outputs": [],
   "source": []
  },
  {
   "cell_type": "code",
   "execution_count": 9,
   "id": "34d7ec9d",
   "metadata": {},
   "outputs": [
    {
     "name": "stderr",
     "output_type": "stream",
     "text": [
      "[19:35:01] {2} DEBUG - download_yt(url= 'https://www.youtube.com/watch?v=k_0LU99jczk', output_path = '../data', file_prefix = 'lee_test_44')\n",
      "[19:35:01] {8} DEBUG - download_yt(): Downloading https://www.youtube.com/watch?v=k_0LU99jczk to ../data/lee_test_44/lee_test_44_0.m4a\n"
     ]
    },
    {
     "name": "stdout",
     "output_type": "stream",
     "text": [
      "Folder already exists\n",
      "Folder already exists\n",
      "[youtube] Extracting URL: https://www.youtube.com/watch?v=k_0LU99jczk\n",
      "[youtube] k_0LU99jczk: Downloading webpage\n",
      "[youtube] k_0LU99jczk: Downloading ios player API JSON\n",
      "[youtube] k_0LU99jczk: Downloading android player API JSON\n",
      "[youtube] k_0LU99jczk: Downloading m3u8 information\n",
      "[info] k_0LU99jczk: Downloading 1 format(s): 140\n",
      "[download] Destination: ../data/lee_test_44/lee_test_44_0.m4a\n",
      "[download] 100% of   78.58MiB in 00:00:03 at 24.72MiB/s  \n",
      "[FixupM4a] Correcting container of \"../data/lee_test_44/lee_test_44_0.m4a\"\n",
      "[ExtractAudio] Not converting audio ../data/lee_test_44/lee_test_44_0.m4a; file is already in target format m4a\n"
     ]
    },
    {
     "name": "stderr",
     "output_type": "stream",
     "text": [
      "[19:35:11] {26} DEBUG - download_yt(): error_code = 0\n",
      "[19:35:11] {30} DEBUG - Converting ../data/lee_test_44/lee_test_44_0.m4a to ../data/lee_test_44/wavs/lee_test_44_0.wav\n",
      "ffmpeg version 4.2.7-0ubuntu0.1 Copyright (c) 2000-2022 the FFmpeg developers\n",
      "  built with gcc 9 (Ubuntu 9.4.0-1ubuntu1~20.04.1)\n",
      "  configuration: --prefix=/usr --extra-version=0ubuntu0.1 --toolchain=hardened --libdir=/usr/lib/x86_64-linux-gnu --incdir=/usr/include/x86_64-linux-gnu --arch=amd64 --enable-gpl --disable-stripping --enable-avresample --disable-filter=resample --enable-avisynth --enable-gnutls --enable-ladspa --enable-libaom --enable-libass --enable-libbluray --enable-libbs2b --enable-libcaca --enable-libcdio --enable-libcodec2 --enable-libflite --enable-libfontconfig --enable-libfreetype --enable-libfribidi --enable-libgme --enable-libgsm --enable-libjack --enable-libmp3lame --enable-libmysofa --enable-libopenjpeg --enable-libopenmpt --enable-libopus --enable-libpulse --enable-librsvg --enable-librubberband --enable-libshine --enable-libsnappy --enable-libsoxr --enable-libspeex --enable-libssh --enable-libtheora --enable-libtwolame --enable-libvidstab --enable-libvorbis --enable-libvpx --enable-libwavpack --enable-libwebp --enable-libx265 --enable-libxml2 --enable-libxvid --enable-libzmq --enable-libzvbi --enable-lv2 --enable-omx --enable-openal --enable-opencl --enable-opengl --enable-sdl2 --enable-libdc1394 --enable-libdrm --enable-libiec61883 --enable-nvenc --enable-chromaprint --enable-frei0r --enable-libx264 --enable-shared\n",
      "  libavutil      56. 31.100 / 56. 31.100\n",
      "  libavcodec     58. 54.100 / 58. 54.100\n",
      "  libavformat    58. 29.100 / 58. 29.100\n",
      "  libavdevice    58.  8.100 / 58.  8.100\n",
      "  libavfilter     7. 57.100 /  7. 57.100\n",
      "  libavresample   4.  0.  0 /  4.  0.  0\n",
      "  libswscale      5.  5.100 /  5.  5.100\n",
      "  libswresample   3.  5.100 /  3.  5.100\n",
      "  libpostproc    55.  5.100 / 55.  5.100\n",
      "Input #0, mov,mp4,m4a,3gp,3g2,mj2, from '../data/lee_test_44/lee_test_44_0.m4a':\n",
      "  Metadata:\n",
      "    major_brand     : isom\n",
      "    minor_version   : 512\n",
      "    compatible_brands: isomiso2mp41\n",
      "    encoder         : Lavf58.29.100\n",
      "  Duration: 01:24:51.39, start: 0.000000, bitrate: 129 kb/s\n",
      "    Stream #0:0(und): Audio: aac (LC) (mp4a / 0x6134706D), 44100 Hz, stereo, fltp, 128 kb/s (default)\n",
      "    Metadata:\n",
      "      handler_name    : ISO Media file produced by Google Inc.\n",
      "Stream mapping:\n",
      "  Stream #0:0 -> #0:0 (aac (native) -> pcm_s16le (native))\n",
      "Press [q] to stop, [?] for help\n",
      "Output #0, wav, to '../data/lee_test_44/wavs/lee_test_44_0.wav':\n",
      "  Metadata:\n",
      "    major_brand     : isom\n",
      "    minor_version   : 512\n",
      "    compatible_brands: isomiso2mp41\n",
      "    ISFT            : Lavf58.29.100\n",
      "    Stream #0:0(und): Audio: pcm_s16le ([1][0][0][0] / 0x0001), 44000 Hz, mono, s16, 704 kb/s (default)\n",
      "    Metadata:\n",
      "      handler_name    : ISO Media file produced by Google Inc.\n",
      "      encoder         : Lavc58.54.100 pcm_s16le\n",
      "size=  437542kB time=01:24:51.39 bitrate= 704.0kbits/s speed=1.7e+03x     \n",
      "video:0kB audio:437542kB subtitle:0kB other streams:0kB global headers:0kB muxing overhead: 0.000017%\n"
     ]
    }
   ],
   "source": [
    "#input_index = 10\n",
    "output_path = \"../data\"\n",
    "dataset_prefix = \"lee_test_44\"\n",
    "#owner = \"alec\" # Set the owner of the output files\n",
    "\n",
    "# Create new target folder\n",
    "try:\n",
    "    os.mkdir(f\"{output_path}/{dataset_prefix}\")\n",
    "except FileExistsError:\n",
    "    print (\"Folder already exists\")\n",
    "# Create new target folder\n",
    "try:\n",
    "    os.mkdir(f\"{output_path}/{dataset_prefix}/wavs\")\n",
    "except FileExistsError:\n",
    "    print (\"Folder already exists\")\n",
    "\n",
    "\n",
    "for input_index in range(0,len(URLS)):\n",
    "    url = URLS[input_index]\n",
    "\n",
    "    download_yt(url, output_path, dataset_prefix)\n",
    "    \n",
    "    input_filename = f\"{dataset_prefix}_{input_index}.m4a\"\n",
    "    #input_filename = filenames[index]\n",
    "    #wav_filename = input_filename.replace(\".m4a\", \".wav\")\n",
    "    wav_filename = f\"{dataset_prefix}_{input_index}.wav\"\n",
    "    file_input_path = f\"{output_path}/{dataset_prefix}/{input_filename}\"\n",
    "    file_output_path = f\"{output_path}/{dataset_prefix}/wavs/{wav_filename}\"\n",
    "\n",
    "    logger.debug(f\"Converting {file_input_path} to {file_output_path}\")\n",
    "    convert_mp4_to_wav(file_input_path, file_output_path)\n",
    "    \n",
    "    #os.system(f\"chown {owner} {file_output_path}\")\n"
   ]
  },
  {
   "cell_type": "code",
   "execution_count": null,
   "id": "d1ceda82",
   "metadata": {},
   "outputs": [],
   "source": []
  },
  {
   "cell_type": "code",
   "execution_count": null,
   "id": "804a8a42",
   "metadata": {},
   "outputs": [],
   "source": []
  },
  {
   "cell_type": "markdown",
   "id": "c672cb2b",
   "metadata": {},
   "source": [
    "# History Channel"
   ]
  },
  {
   "cell_type": "code",
   "execution_count": null,
   "id": "d3f26816",
   "metadata": {},
   "outputs": [],
   "source": [
    "from pathlib import Path\n"
   ]
  },
  {
   "cell_type": "code",
   "execution_count": null,
   "id": "f6b7364f",
   "metadata": {},
   "outputs": [],
   "source": [
    "data_folder = \"../data\"\n",
    "input_folder = \"mailcall\""
   ]
  },
  {
   "cell_type": "code",
   "execution_count": null,
   "id": "7e45c66e",
   "metadata": {},
   "outputs": [],
   "source": [
    "!ls ../data/mailcall/*.mp4"
   ]
  },
  {
   "cell_type": "code",
   "execution_count": null,
   "id": "132eb5d0",
   "metadata": {},
   "outputs": [],
   "source": [
    "input_paths = glob.glob(f'{data_folder}/{input_folder}/*.mp4')"
   ]
  },
  {
   "cell_type": "code",
   "execution_count": null,
   "id": "384e6f1b",
   "metadata": {},
   "outputs": [],
   "source": [
    "dataset_prefix = \"lee_test_44\"\n",
    "output_folder = f\"{dataset_prefix}/\"\n",
    "output_path = f\"{data_folder}/{output_folder}\"\n",
    "print (f\"{output_folder = }\")\n",
    "print (f\"{output_path = }\")\n",
    "\n"
   ]
  },
  {
   "cell_type": "code",
   "execution_count": null,
   "id": "b34811b5",
   "metadata": {},
   "outputs": [],
   "source": []
  },
  {
   "cell_type": "code",
   "execution_count": null,
   "id": "6a8095cf",
   "metadata": {},
   "outputs": [],
   "source": []
  },
  {
   "cell_type": "code",
   "execution_count": null,
   "id": "c75035ee",
   "metadata": {},
   "outputs": [],
   "source": [
    "for input_index in range(len(input_paths)):\n",
    "    input_path = Path(input_paths[input_index])\n",
    "    \n",
    "    filename = input_path.name\n",
    "    output_filename = filename.replace(\".mp4\", \".wav\")\n",
    "    \n",
    "    #file_output_path = f\"{output_path}/{output_filename}\"\n",
    "    file_output_path = f\"{output_path}/full_wav/{dataset_prefix}_h{input_index}.wav\"\n",
    "    \n",
    "    print (f\"Converting {input_path} -> {file_output_path}\")\n",
    "    \n",
    "    convert_mp4_to_wav(input_path, file_output_path)\n"
   ]
  },
  {
   "cell_type": "code",
   "execution_count": null,
   "id": "913147ad",
   "metadata": {},
   "outputs": [],
   "source": [
    "input_path, filename"
   ]
  },
  {
   "cell_type": "code",
   "execution_count": null,
   "id": "69d8f7b4",
   "metadata": {},
   "outputs": [],
   "source": []
  },
  {
   "cell_type": "code",
   "execution_count": null,
   "id": "79217cf9",
   "metadata": {},
   "outputs": [],
   "source": []
  },
  {
   "cell_type": "code",
   "execution_count": null,
   "id": "e56abbfb",
   "metadata": {},
   "outputs": [],
   "source": []
  },
  {
   "cell_type": "code",
   "execution_count": null,
   "id": "8679d67d",
   "metadata": {},
   "outputs": [],
   "source": []
  },
  {
   "cell_type": "code",
   "execution_count": null,
   "id": "d3a6c260",
   "metadata": {},
   "outputs": [],
   "source": [
    "from datetime import datetime\n"
   ]
  },
  {
   "cell_type": "code",
   "execution_count": null,
   "id": "7f24c8ba",
   "metadata": {},
   "outputs": [],
   "source": [
    "datetime_object = datetime.fromtimestamp(start)\n"
   ]
  },
  {
   "cell_type": "code",
   "execution_count": null,
   "id": "7b14a7d2",
   "metadata": {},
   "outputs": [],
   "source": [
    "segment = data_wav[start:end]"
   ]
  },
  {
   "cell_type": "code",
   "execution_count": null,
   "id": "4b986d6a",
   "metadata": {},
   "outputs": [],
   "source": []
  },
  {
   "cell_type": "code",
   "execution_count": null,
   "id": "7181c62e",
   "metadata": {},
   "outputs": [],
   "source": [
    "import os, sklearn.cluster\n",
    "from pyAudioAnalysis.MidTermFeatures import mid_feature_extraction as mT\n",
    "from pyAudioAnalysis.audioBasicIO import read_audio_file, stereo_to_mono\n",
    "from pyAudioAnalysis.audioSegmentation import labels_to_segments\n",
    "from pyAudioAnalysis.audioTrainTest import normalize_features\n",
    "import numpy as np\n",
    "import scipy.io.wavfile as wavfile\n",
    "import IPython"
   ]
  },
  {
   "cell_type": "code",
   "execution_count": null,
   "id": "8e003732",
   "metadata": {},
   "outputs": [],
   "source": [
    "import sklearn"
   ]
  },
  {
   "cell_type": "code",
   "execution_count": null,
   "id": "66a7f0f5",
   "metadata": {},
   "outputs": [],
   "source": [
    "sklearn.__version__"
   ]
  },
  {
   "cell_type": "code",
   "execution_count": null,
   "id": "29443fd3",
   "metadata": {},
   "outputs": [],
   "source": [
    "#!pip install scikit-learn==1.2.0"
   ]
  },
  {
   "cell_type": "code",
   "execution_count": null,
   "id": "c7faea1e",
   "metadata": {},
   "outputs": [],
   "source": [
    "# read signal and get normalized segment feature statistics:\n",
    "input_file = \"data/diarization_example.wav\"\n",
    "fs, x = read_audio_file(input_file)\n",
    "mt_size, mt_step, st_win = 2, 0.1, 0.05\n",
    "[mt_feats, st_feats, _] = mT(x, fs, mt_size * fs, mt_step * fs,\n",
    "             "
   ]
  },
  {
   "cell_type": "code",
   "execution_count": null,
   "id": "b51908bb",
   "metadata": {},
   "outputs": [],
   "source": [
    "               round(fs * st_win), round(fs * st_win * 0.5))\n",
    "(mt_feats_norm, MEAN, STD) = normalize_features([mt_feats.T])\n",
    "mt_feats_norm = mt_feats_norm[0].T\n",
    "\n",
    "# perform clustering\n",
    "n_clusters = 4\n",
    "x_clusters = [np.zeros((fs, )) for i in range(n_clusters)]\n",
    "k_means = sklearn.cluster.KMeans(n_clusters=n_clusters)\n",
    "k_means.fit(mt_feats_norm.T)\n",
    "cls = k_means.labels_\n",
    "\n",
    "# save clusters to concatenated wav files\n",
    "segs, c = labels_to_segments(cls, mt_step)  # convert flags to segment limits\n",
    "for sp in range(n_clusters):                \n",
    "    count_cl = 0\n",
    "    for i in range(len(c)):     # for each segment in each cluster (>2 secs long)\n",
    "        if c[i] == sp and segs[i, 1]-segs[i, 0] > 2:\n",
    "            count_cl += 1\n",
    "            # get the signal and append it to the cluster's signal (followed by some silence)\n",
    "            cur_x = x[int(segs[i, 0] * fs): int(segs[i, 1] * fs)]\n",
    "            x_clusters[sp] = np.append(x_clusters[sp], cur_x)\n",
    "            x_clusters[sp] = np.append(x_clusters[sp], np.zeros((fs,)))\n",
    "    # write cluster's signal into a WAV file\n",
    "    print(f'speaker {sp}: {count_cl} segments {len(x_clusters[sp])/float(fs)} sec total dur')        \n",
    "    wavfile.write(f'diarization_cluster_{sp}.wav', fs, np.int16(x_clusters[sp]))\n",
    "    IPython.display.display(IPython.display.Audio(f'diarization_cluster_{sp}.wav'))"
   ]
  }
 ],
 "metadata": {
  "kernelspec": {
   "display_name": "Python 3 (ipykernel)",
   "language": "python",
   "name": "python3"
  },
  "language_info": {
   "codemirror_mode": {
    "name": "ipython",
    "version": 3
   },
   "file_extension": ".py",
   "mimetype": "text/x-python",
   "name": "python",
   "nbconvert_exporter": "python",
   "pygments_lexer": "ipython3",
   "version": "3.10.11"
  },
  "toc": {
   "base_numbering": 1,
   "nav_menu": {},
   "number_sections": true,
   "sideBar": true,
   "skip_h1_title": false,
   "title_cell": "Table of Contents",
   "title_sidebar": "Contents",
   "toc_cell": false,
   "toc_position": {
    "height": "calc(100% - 180px)",
    "left": "10px",
    "top": "150px",
    "width": "330.99px"
   },
   "toc_section_display": true,
   "toc_window_display": true
  }
 },
 "nbformat": 4,
 "nbformat_minor": 5
}
