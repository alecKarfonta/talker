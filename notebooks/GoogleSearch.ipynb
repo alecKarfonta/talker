{
 "cells": [
  {
   "cell_type": "code",
   "execution_count": 1,
   "id": "40cc1106",
   "metadata": {},
   "outputs": [
    {
     "name": "stdout",
     "output_type": "stream",
     "text": [
      "Collecting googlesearch-python\n",
      "  Downloading googlesearch-python-1.2.3.tar.gz (3.9 kB)\n",
      "  Preparing metadata (setup.py) ... \u001b[?25ldone\n",
      "\u001b[?25hRequirement already satisfied: beautifulsoup4>=4.9 in /usr/local/lib/python3.8/dist-packages (from googlesearch-python) (4.11.2)\n",
      "Requirement already satisfied: requests>=2.20 in /usr/lib/python3/dist-packages (from googlesearch-python) (2.22.0)\n",
      "Requirement already satisfied: soupsieve>1.2 in /usr/local/lib/python3.8/dist-packages (from beautifulsoup4>=4.9->googlesearch-python) (2.3.2.post1)\n",
      "Building wheels for collected packages: googlesearch-python\n",
      "  Building wheel for googlesearch-python (setup.py) ... \u001b[?25ldone\n",
      "\u001b[?25h  Created wheel for googlesearch-python: filename=googlesearch_python-1.2.3-py3-none-any.whl size=4210 sha256=f04175af7b596e02e81af241ce744e4e02aefa891139f1f5635bda75a6fad192\n",
      "  Stored in directory: /root/.cache/pip/wheels/f2/21/bb/90c42b8d88c06129a64d20f94a10ff001ffc234c98f35a8ba3\n",
      "Successfully built googlesearch-python\n",
      "Installing collected packages: googlesearch-python\n",
      "Successfully installed googlesearch-python-1.2.3\n",
      "\u001b[33mWARNING: Running pip as the 'root' user can result in broken permissions and conflicting behaviour with the system package manager. It is recommended to use a virtual environment instead: https://pip.pypa.io/warnings/venv\u001b[0m\u001b[33m\n",
      "\u001b[0m\n",
      "\u001b[1m[\u001b[0m\u001b[34;49mnotice\u001b[0m\u001b[1;39;49m]\u001b[0m\u001b[39;49m A new release of pip is available: \u001b[0m\u001b[31;49m23.0\u001b[0m\u001b[39;49m -> \u001b[0m\u001b[32;49m23.1.2\u001b[0m\n",
      "\u001b[1m[\u001b[0m\u001b[34;49mnotice\u001b[0m\u001b[1;39;49m]\u001b[0m\u001b[39;49m To update, run: \u001b[0m\u001b[32;49mpython3 -m pip install --upgrade pip\u001b[0m\n",
      "Collecting wikipedia\n",
      "  Downloading wikipedia-1.4.0.tar.gz (27 kB)\n",
      "  Preparing metadata (setup.py) ... \u001b[?25ldone\n",
      "\u001b[?25hRequirement already satisfied: beautifulsoup4 in /usr/local/lib/python3.8/dist-packages (from wikipedia) (4.11.2)\n",
      "Requirement already satisfied: requests<3.0.0,>=2.0.0 in /usr/lib/python3/dist-packages (from wikipedia) (2.22.0)\n",
      "Requirement already satisfied: soupsieve>1.2 in /usr/local/lib/python3.8/dist-packages (from beautifulsoup4->wikipedia) (2.3.2.post1)\n",
      "Building wheels for collected packages: wikipedia\n",
      "  Building wheel for wikipedia (setup.py) ... \u001b[?25ldone\n",
      "\u001b[?25h  Created wheel for wikipedia: filename=wikipedia-1.4.0-py3-none-any.whl size=11680 sha256=6811017e8710ee6460dca155b3c66101c031c3bd78ea77e71d1117d9c71bf7f3\n",
      "  Stored in directory: /root/.cache/pip/wheels/07/93/05/72c05349177dca2e0ba31a33ba4f7907606f7ddef303517c6a\n",
      "Successfully built wikipedia\n",
      "Installing collected packages: wikipedia\n",
      "Successfully installed wikipedia-1.4.0\n",
      "\u001b[33mWARNING: Running pip as the 'root' user can result in broken permissions and conflicting behaviour with the system package manager. It is recommended to use a virtual environment instead: https://pip.pypa.io/warnings/venv\u001b[0m\u001b[33m\n",
      "\u001b[0m\n",
      "\u001b[1m[\u001b[0m\u001b[34;49mnotice\u001b[0m\u001b[1;39;49m]\u001b[0m\u001b[39;49m A new release of pip is available: \u001b[0m\u001b[31;49m23.0\u001b[0m\u001b[39;49m -> \u001b[0m\u001b[32;49m23.1.2\u001b[0m\n",
      "\u001b[1m[\u001b[0m\u001b[34;49mnotice\u001b[0m\u001b[1;39;49m]\u001b[0m\u001b[39;49m To update, run: \u001b[0m\u001b[32;49mpython3 -m pip install --upgrade pip\u001b[0m\n"
     ]
    }
   ],
   "source": [
    "!pip install googlesearch-python\n",
    "!pip install wikipedia"
   ]
  },
  {
   "cell_type": "code",
   "execution_count": 2,
   "id": "a3f34ac7",
   "metadata": {},
   "outputs": [],
   "source": [
    "import googlesearch\n",
    "import wikipedia"
   ]
  },
  {
   "cell_type": "code",
   "execution_count": 3,
   "id": "b5ccdea0",
   "metadata": {},
   "outputs": [],
   "source": [
    "search_term = \"Rendevouz with Rama\"\n",
    "results = search(\"Wikipedia\" + search_term, num_results=5)"
   ]
  },
  {
   "cell_type": "code",
   "execution_count": 4,
   "id": "0789a1de",
   "metadata": {},
   "outputs": [
    {
     "data": {
      "text/plain": [
       "\"Bill Clinton, a Democrat from Arkansas, was elected President of the United States on November 3, 1992 and was inaugurated as the nation's 42nd president on January 20, 1993. Re-elected on November 5, 1996, his second inauguration was on January 20, 1997, and his presidency ended on January 20, 2001 with the inauguration of George W. Bush. The following articles cover the timeline of Clinton's presidency, and the time leading up to it:\\n\\nPre-presidency: 1991–1993\\nBill Clinton 1992 presidential campaign\\nPresidential transition of Bill Clinton\\nPresidency: 1993–2001\\nTimeline of the Bill Clinton presidency (1993)\\nTimeline of the Bill Clinton presidency (1994)\\nTimeline of the Bill Clinton presidency (1995)\\nTimeline of the Bill Clinton presidency (1996)\\nTimeline of the Bill Clinton presidency (1997)\\nTimeline of the Bill Clinton presidency (1998)\\nTimeline of the Bill Clinton presidency (1999)\\nTimeline of the Bill Clinton presidency (2000–2001)\""
      ]
     },
     "execution_count": 4,
     "metadata": {},
     "output_type": "execute_result"
    }
   ],
   "source": [
    "wikipedia.summary(\"Timeline_of_the_Bill_Clinton_presidency\")"
   ]
  },
  {
   "cell_type": "code",
   "execution_count": 5,
   "id": "b9de8b87",
   "metadata": {},
   "outputs": [
    {
     "data": {
      "text/plain": [
       "generator"
      ]
     },
     "execution_count": 5,
     "metadata": {},
     "output_type": "execute_result"
    }
   ],
   "source": [
    "type(results)"
   ]
  },
  {
   "cell_type": "code",
   "execution_count": 6,
   "id": "30d5cf98",
   "metadata": {},
   "outputs": [],
   "source": [
    "url = None\n",
    "for result in results:\n",
    "    if \"wikipedia.org\" in result:\n",
    "        url = result"
   ]
  },
  {
   "cell_type": "code",
   "execution_count": 7,
   "id": "15a2a650",
   "metadata": {},
   "outputs": [
    {
     "data": {
      "text/plain": [
       "'https://en.wikipedia.org/wiki/Rendezvous_with_Rama'"
      ]
     },
     "execution_count": 7,
     "metadata": {},
     "output_type": "execute_result"
    }
   ],
   "source": [
    "url"
   ]
  },
  {
   "cell_type": "code",
   "execution_count": 29,
   "id": "edd0d10d",
   "metadata": {},
   "outputs": [],
   "source": [
    "def find_wiki_page(search_term):\n",
    "    results = wikipedia.search(search_term)\n",
    "    \n",
    "    if not results:\n",
    "        print(f\"No results found for {search_term}\")\n",
    "        \n",
    "    for index in range(len(results)):\n",
    "        try:\n",
    "            return wikipedia.summary(results[index])\n",
    "        except:\n",
    "            pass\n",
    "    \n",
    "    \"\"\"\n",
    "    url = None\n",
    "    for result in results:\n",
    "        print (result)\n",
    "        if \"wikipedia.org\" in result:\n",
    "            url = result\n",
    "    details = {}\n",
    "    if url:\n",
    "        page_name_start = url.index(\"wiki/\")\n",
    "        details[\"page_name\"] = url[page_name_start+5:]\n",
    "        try:\n",
    "            details[\"summary\"] = wikipedia.summary(details[\"page_name\"])\n",
    "        except:\n",
    "            print(f\"Could not find page for {details['page_name']}\")\n",
    "            \n",
    "            print (\"Searching for matches on wiki\")\n",
    "            # Try to search for the term\n",
    "            matches = wikipedia.search(details[\"page_name\"])\n",
    "            print (f\"Matches found {len(matches)}\")\n",
    "            \n",
    "            for match in matches:\n",
    "                try:\n",
    "                    print (f\"Parsing data from match: {match}\")\n",
    "                    details[\"summary\"] = wikipedia.summary(match)\n",
    "                    if details[\"summary\"]:\n",
    "                        break\n",
    "                except:\n",
    "                    print(f\"Could not find page for {details['page_name']}\")\n",
    "                \n",
    "    return details    \n",
    "    \"\"\"\n",
    "            "
   ]
  },
  {
   "cell_type": "code",
   "execution_count": 26,
   "id": "5ed9a448",
   "metadata": {},
   "outputs": [],
   "source": [
    "results = wikipedia.search(\"Starcraft\")"
   ]
  },
  {
   "cell_type": "code",
   "execution_count": null,
   "id": "846bb236",
   "metadata": {},
   "outputs": [],
   "source": []
  },
  {
   "cell_type": "code",
   "execution_count": null,
   "id": "5cf08490",
   "metadata": {},
   "outputs": [],
   "source": []
  },
  {
   "cell_type": "code",
   "execution_count": 30,
   "id": "c48fced4",
   "metadata": {},
   "outputs": [],
   "source": [
    "details = find_wiki_page(\"Starcraft\")"
   ]
  },
  {
   "cell_type": "code",
   "execution_count": 31,
   "id": "7504c55a",
   "metadata": {},
   "outputs": [
    {
     "data": {
      "text/plain": [
       "\"StarCraft: Brood War is the expansion pack for the military science fiction real-time strategy video game StarCraft. Released in December 1998 for Microsoft Windows and June 1999 for Mac OS, it was co-developed by Saffire and Blizzard Entertainment. The expansion pack introduces new campaigns, map tilesets, music, extra units for each race, and upgrade advancements. The campaigns continue the story from where the original StarCraft ended, with the sequel, StarCraft II: Wings of Liberty, continuing from the conclusion of Brood War. The expansion was released first in the United States on December 18, 1998.Brood War was critically well received, with reviewers praising it for being developed with the care of a full game rather than as an uninspired extra. As of May 31, 2007, StarCraft and Brood War have sold almost ten million copies combined. The game is especially popular in South Korea, where professional players and teams have participated in matches, earned sponsorships, and competed in televised matches.\\nAs of April 19, 2017, StarCraft and its Brood War expansion, aka the Anthology, are free to download and play from Blizzard's website. A remastered edition of StarCraft and its expansion was released on August 14, 2017.\\n\\n\""
      ]
     },
     "execution_count": 31,
     "metadata": {},
     "output_type": "execute_result"
    }
   ],
   "source": [
    "details"
   ]
  },
  {
   "cell_type": "code",
   "execution_count": null,
   "id": "7b04c7c2",
   "metadata": {},
   "outputs": [],
   "source": []
  },
  {
   "cell_type": "code",
   "execution_count": null,
   "id": "2ec34a8b",
   "metadata": {},
   "outputs": [],
   "source": []
  },
  {
   "cell_type": "code",
   "execution_count": 12,
   "id": "4f866eca",
   "metadata": {},
   "outputs": [
    {
     "data": {
      "text/plain": [
       "\"Toyota Motor Corporation (Japanese: トヨタ自動車株式会社, Hepburn: Toyota Jidōsha kabushikigaisha, IPA: [toꜜjota], English: , commonly known as simply Toyota) is a Japanese multinational automotive manufacturer headquartered in Toyota City, Aichi, Japan. It was founded by Kiichiro Toyoda and incorporated on August 28, 1937 (1937-08-28). Toyota is one of the largest automobile manufacturers in the world, producing about 10 million vehicles per year.\\nThe company was originally founded as a spinoff of Toyota Industries, a machine maker started by Sakichi Toyoda, Kiichiro's father. Both companies are now part of the Toyota Group, one of the largest conglomerates in the world. While still a department of Toyota Industries, the company developed its first product, the Type A engine, in 1934 and its first passenger car in 1936, the Toyota AA.\\nAfter World War II, Toyota benefited from Japan's alliance with the United States to learn from American automakers and other companies, which gave rise to The Toyota Way (a management philosophy) and the Toyota Production System (a lean manufacturing practice) that transformed the small company into a leader in the industry and was the subject of many academic studies.\\nIn the 1960s, Toyota took advantage of a rapidly growing Japanese economy to sell cars to a growing middle-class, leading to the development of the Toyota Corolla, which became the world's all-time best-selling automobile. The booming economy also funded an international expansion that allowed Toyota to grow into one of the largest automakers in the world, the largest company in Japan and the ninth-largest company in the world by revenue, as of December 2020. Toyota was the world's first automobile manufacturer to produce more than 10 million vehicles per year, a record set in 2012, when it also reported the production of its 200 millionth vehicle.\\nToyota was praised for being a leader in the development and sales of more fuel-efficient hybrid electric vehicles, starting with the introduction of the Toyota Prius in 1997. The company now sells more than 40 hybrid vehicle models around the world. However, more recently, the company has also been accused of greenwashing for its skepticism of all-electric vehicles and its focus on the development of hydrogen fuel cell vehicles, like the Toyota Mirai, a technology that is costlier and has fallen far behind electric batteries. Still, in late 2022, the company signed an £11.3m government deal with the UK's Department for Business, Energy and Industrial Strategy to help it develop its Hilux FC model, a new range of hydrogen-powered pickup trucks.As of 2022, the Toyota Motor Corporation produces vehicles under four brands: Daihatsu, Hino, Lexus and the namesake Toyota. The company also holds a 20% stake in Subaru Corporation, a 5.1% stake in Mazda, a 4.9% stake in Suzuki, a 4.6% stake in Isuzu, a 3.8% stake in Yamaha Motor Corporation, and a 2.8% stake in Panasonic, as well as stakes in vehicle manufacturing joint-ventures in China (FAW Toyota and GAC Toyota), the Czech Republic (TPCA), India (Toyota Kirloskar) and the United States (MTMUS).\\nToyota is listed on the London Stock Exchange, Nagoya Stock Exchange, New York Stock Exchange and on the Tokyo Stock Exchange, where its stock is a component of the Nikkei 225 and TOPIX Core30 indices.\\n\\n\""
      ]
     },
     "execution_count": 12,
     "metadata": {},
     "output_type": "execute_result"
    }
   ],
   "source": [
    "wikipedia.summary(\"Toyota\")"
   ]
  },
  {
   "cell_type": "code",
   "execution_count": null,
   "id": "9c35f37d",
   "metadata": {},
   "outputs": [],
   "source": []
  },
  {
   "cell_type": "code",
   "execution_count": null,
   "id": "f5f757ec",
   "metadata": {},
   "outputs": [],
   "source": []
  },
  {
   "cell_type": "code",
   "execution_count": null,
   "id": "09cabaf9",
   "metadata": {},
   "outputs": [],
   "source": []
  },
  {
   "cell_type": "code",
   "execution_count": null,
   "id": "3092d258",
   "metadata": {},
   "outputs": [],
   "source": []
  },
  {
   "cell_type": "code",
   "execution_count": 7,
   "id": "7f8df587",
   "metadata": {},
   "outputs": [
    {
     "data": {
      "text/plain": [
       "'The Toyota Vitz (Japanese: トヨタ・ヴィッツ, Hepburn: Toyota Vittsu) is a subcompact car produced by the Japanese automobile manufacturer Toyota from 1999 to 2019 in a three- or five-door hatchback body styles. The \"Vitz\" nameplate was used consistently in Japan, while most international markets received the same vehicle as the Toyota Yaris, or as the Toyota Echo in some markets for the first generation. The Vitz was available in Japan from Toyota\\'s Netz Store dealerships. Toyota began production in Japan and later assembled the vehicle in other Asian countries and in France.\\nBy 2010, the first two generations had achieved in excess of 3.5 million sales in over 70 countries, including more than 1.4 million in Japan.In 2019, the \"Vitz\" nameplate was no longer used in Japan due to faltering sales and the unification of Toyota sales network in Japan, and the vehicle was replaced by the XP210 series Yaris. Since 2023, the nameplate is reused for a rebadged third-generation Suzuki Celerio for African markets.'"
      ]
     },
     "execution_count": 7,
     "metadata": {},
     "output_type": "execute_result"
    }
   ],
   "source": [
    "details[\"summary\"]"
   ]
  },
  {
   "cell_type": "code",
   "execution_count": null,
   "id": "5f446cc4",
   "metadata": {},
   "outputs": [],
   "source": []
  },
  {
   "cell_type": "code",
   "execution_count": null,
   "id": "3c77611b",
   "metadata": {},
   "outputs": [],
   "source": []
  },
  {
   "cell_type": "code",
   "execution_count": null,
   "id": "040a3cca",
   "metadata": {},
   "outputs": [],
   "source": []
  },
  {
   "cell_type": "code",
   "execution_count": null,
   "id": "10c637f5",
   "metadata": {},
   "outputs": [],
   "source": []
  },
  {
   "cell_type": "code",
   "execution_count": 8,
   "id": "ae7cd4e1",
   "metadata": {},
   "outputs": [
    {
     "data": {
      "text/plain": [
       "['Gundam',\n",
       " 'Mobile Suit Gundam',\n",
       " 'Mobile Suit Gundam: The Witch from Mercury',\n",
       " 'Mobile Suit Gundam SEED',\n",
       " 'Mobile Suit Gundam: Iron-Blooded Orphans',\n",
       " 'Mobile Fighter G Gundam',\n",
       " 'Gundam (fictional robot)',\n",
       " 'Mobile Suit Gundam Wing',\n",
       " 'Mobile Suit Zeta Gundam',\n",
       " 'Mobile Suit Gundam 00']"
      ]
     },
     "execution_count": 8,
     "metadata": {},
     "output_type": "execute_result"
    }
   ],
   "source": [
    "wikipedia.search(\"gundam\")"
   ]
  },
  {
   "cell_type": "code",
   "execution_count": null,
   "id": "0827a0a1",
   "metadata": {},
   "outputs": [],
   "source": []
  },
  {
   "cell_type": "code",
   "execution_count": null,
   "id": "244e4495",
   "metadata": {},
   "outputs": [],
   "source": []
  },
  {
   "cell_type": "code",
   "execution_count": null,
   "id": "2b2347b1",
   "metadata": {},
   "outputs": [],
   "source": []
  },
  {
   "cell_type": "code",
   "execution_count": 10,
   "id": "39c6641e",
   "metadata": {},
   "outputs": [
    {
     "data": {
      "text/plain": [
       "'https://en.wikipedia.org/wiki/Gundam'"
      ]
     },
     "execution_count": 10,
     "metadata": {},
     "output_type": "execute_result"
    }
   ],
   "source": [
    "url"
   ]
  },
  {
   "cell_type": "code",
   "execution_count": 11,
   "id": "812713be",
   "metadata": {},
   "outputs": [
    {
     "data": {
      "text/plain": [
       "{'page_name': 'Gundam',\n",
       " 'summary': 'Mobile Suit Gundam (Japanese: 機動戦士ガンダム, Hepburn: Kidō Senshi Gandamu), also known as First Gundam, Gundam 0079 or simply Gundam \\'79, is an anime television series, produced and animated by Nippon Sunrise. Created and directed by Yoshiyuki Tomino, it premiered in Japan on Nagoya Broadcasting Network and its affiliated ANN stations on April 7, 1979, and lasted until January 26, 1980, spanning 43 episodes. It was the first Gundam series, which has subsequently been adapted into numerous sequels and spin-offs. Set in the futuristic calendar year \"Universal Century\" 0079, the plot focuses on the war between the Principality of Zeon and the Earth Federation, with the latter unveiling a new giant robot known as the RX-78-2 Gundam piloted by the teenage civilian mechanic Amuro Ray.\\nIn 1981, the series was re-edited for theatrical release and split into three films. The characters were designed by Yoshikazu Yasuhiko, and Kunio Okawara was responsible for the mechanical designs, including the eponymous giant robot, the RX-78-2 Gundam. The first film was released on February 22, 1981. Tomino himself also wrote a trilogy of novels that retell the events of the series. Two manga adaptations of the series have also been written by two manga artists.\\nDespite initial low ratings that caused the series\\' cancellation, the popularity of Gundam saw a boost from the introduction of Bandai\\'s Gunpla models in 1980 and from reruns and the theatrical release of the anime, leading to the creation of a prolific and lucrative media and toy franchise. The series is famous for revolutionizing the giant robot genre due to the handling of mobile suits as weapons of war, as well as the portrayal of their pilots as ordinary soldiers. This aspects contrasted with the previous style of portraying hero pilots and their giant super hero robots.'}"
      ]
     },
     "execution_count": 11,
     "metadata": {},
     "output_type": "execute_result"
    }
   ],
   "source": [
    "details"
   ]
  },
  {
   "cell_type": "code",
   "execution_count": 12,
   "id": "5ba28cbb",
   "metadata": {},
   "outputs": [
    {
     "data": {
      "text/plain": [
       "['Gundam',\n",
       " 'Mobile Suit Gundam',\n",
       " 'Mobile Suit Gundam: The Witch from Mercury',\n",
       " 'Mobile Suit Gundam SEED',\n",
       " 'Mobile Fighter G Gundam',\n",
       " 'Mobile Suit Gundam Wing',\n",
       " 'Mobile Suit Zeta Gundam',\n",
       " 'Mobile Suit Gundam: Iron-Blooded Orphans',\n",
       " 'Gundam (fictional robot)',\n",
       " 'Mobile Suit Gundam 00']"
      ]
     },
     "execution_count": 12,
     "metadata": {},
     "output_type": "execute_result"
    }
   ],
   "source": [
    "wikipedia.search(\"Gundam\")"
   ]
  },
  {
   "cell_type": "code",
   "execution_count": 13,
   "id": "a34f9e5d",
   "metadata": {},
   "outputs": [],
   "source": [
    "page = wikipedia.page('Mobile Suit Gundam')"
   ]
  },
  {
   "cell_type": "code",
   "execution_count": null,
   "id": "6ca94791",
   "metadata": {},
   "outputs": [],
   "source": []
  },
  {
   "cell_type": "code",
   "execution_count": null,
   "id": "1eebddad",
   "metadata": {},
   "outputs": [],
   "source": []
  },
  {
   "cell_type": "code",
   "execution_count": null,
   "id": "135c8195",
   "metadata": {},
   "outputs": [],
   "source": []
  },
  {
   "cell_type": "code",
   "execution_count": null,
   "id": "bb014361",
   "metadata": {},
   "outputs": [],
   "source": []
  }
 ],
 "metadata": {
  "kernelspec": {
   "display_name": "Python 3 (ipykernel)",
   "language": "python",
   "name": "python3"
  },
  "language_info": {
   "codemirror_mode": {
    "name": "ipython",
    "version": 3
   },
   "file_extension": ".py",
   "mimetype": "text/x-python",
   "name": "python",
   "nbconvert_exporter": "python",
   "pygments_lexer": "ipython3",
   "version": "3.8.10"
  }
 },
 "nbformat": 4,
 "nbformat_minor": 5
}
