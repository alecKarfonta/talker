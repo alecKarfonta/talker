{
 "cells": [
  {
   "cell_type": "code",
   "execution_count": null,
   "id": "6740f131",
   "metadata": {},
   "outputs": [],
   "source": [
    "from conversation import *\n",
    "from robot import *"
   ]
  },
  {
   "cell_type": "code",
   "execution_count": null,
   "id": "6d16c3e7",
   "metadata": {},
   "outputs": [],
   "source": [
    "robot = Robot(\n",
    "              name=\"Billy\",\n",
    "              persona=\"An old hand puppet.\",\n",
    "              model_name=\"PygmalionAI/pygmalion-6b\"\n",
    "              #model_name=\"TehVenom/Pygmalion-13b-Merged\"\n",
    "              #model_name=\"sasha0552/pygmalion-7b-f16\"\n",
    "              #model_file=\"Friendly\",\n",
    "              #finetune_path=\"/tmp/deepspeed_zero_stage2_accelerate_test/\"\n",
    "             )\n",
    "conversation = Conversation(robot=robot)"
   ]
  },
  {
   "cell_type": "code",
   "execution_count": null,
   "id": "c8e56805",
   "metadata": {},
   "outputs": [],
   "source": []
  },
  {
   "cell_type": "code",
   "execution_count": null,
   "id": "d4e53246",
   "metadata": {},
   "outputs": [],
   "source": []
  }
 ],
 "metadata": {
  "kernelspec": {
   "display_name": "Python 3 (ipykernel)",
   "language": "python",
   "name": "python3"
  },
  "language_info": {
   "codemirror_mode": {
    "name": "ipython",
    "version": 3
   },
   "file_extension": ".py",
   "mimetype": "text/x-python",
   "name": "python",
   "nbconvert_exporter": "python",
   "pygments_lexer": "ipython3",
   "version": "3.8.16"
  }
 },
 "nbformat": 4,
 "nbformat_minor": 5
}
