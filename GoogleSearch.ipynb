{
 "cells": [
  {
   "cell_type": "code",
   "execution_count": 31,
   "id": "40cc1106",
   "metadata": {},
   "outputs": [
    {
     "name": "stdout",
     "output_type": "stream",
     "text": [
      "Requirement already satisfied: googlesearch-python in /usr/local/lib/python3.8/dist-packages (1.2.3)\n",
      "Requirement already satisfied: requests>=2.20 in /usr/lib/python3/dist-packages (from googlesearch-python) (2.22.0)\n",
      "Requirement already satisfied: beautifulsoup4>=4.9 in /usr/local/lib/python3.8/dist-packages (from googlesearch-python) (4.11.2)\n",
      "Requirement already satisfied: soupsieve>1.2 in /usr/local/lib/python3.8/dist-packages (from beautifulsoup4>=4.9->googlesearch-python) (2.3.2.post1)\n",
      "\u001b[33mWARNING: Running pip as the 'root' user can result in broken permissions and conflicting behaviour with the system package manager. It is recommended to use a virtual environment instead: https://pip.pypa.io/warnings/venv\u001b[0m\u001b[33m\n",
      "\u001b[0m\n",
      "\u001b[1m[\u001b[0m\u001b[34;49mnotice\u001b[0m\u001b[1;39;49m]\u001b[0m\u001b[39;49m A new release of pip is available: \u001b[0m\u001b[31;49m23.0\u001b[0m\u001b[39;49m -> \u001b[0m\u001b[32;49m23.1.2\u001b[0m\n",
      "\u001b[1m[\u001b[0m\u001b[34;49mnotice\u001b[0m\u001b[1;39;49m]\u001b[0m\u001b[39;49m To update, run: \u001b[0m\u001b[32;49mpython3 -m pip install --upgrade pip\u001b[0m\n",
      "Requirement already satisfied: pip in /usr/local/lib/python3.8/dist-packages (23.0)\n",
      "Collecting install\n",
      "  Downloading install-1.3.5-py3-none-any.whl (3.2 kB)\n",
      "Collecting wikipedia\n",
      "  Downloading wikipedia-1.4.0.tar.gz (27 kB)\n",
      "  Preparing metadata (setup.py) ... \u001b[?25ldone\n",
      "\u001b[?25hRequirement already satisfied: beautifulsoup4 in /usr/local/lib/python3.8/dist-packages (from wikipedia) (4.11.2)\n",
      "Requirement already satisfied: requests<3.0.0,>=2.0.0 in /usr/lib/python3/dist-packages (from wikipedia) (2.22.0)\n",
      "Requirement already satisfied: soupsieve>1.2 in /usr/local/lib/python3.8/dist-packages (from beautifulsoup4->wikipedia) (2.3.2.post1)\n",
      "Building wheels for collected packages: wikipedia\n",
      "  Building wheel for wikipedia (setup.py) ... \u001b[?25ldone\n",
      "\u001b[?25h  Created wheel for wikipedia: filename=wikipedia-1.4.0-py3-none-any.whl size=11680 sha256=62cf950a724f0892f2de04ea581f8311ea861426fef98b6d55c6408b388be1c0\n",
      "  Stored in directory: /root/.cache/pip/wheels/07/93/05/72c05349177dca2e0ba31a33ba4f7907606f7ddef303517c6a\n",
      "Successfully built wikipedia\n",
      "Installing collected packages: install, wikipedia\n",
      "Successfully installed install-1.3.5 wikipedia-1.4.0\n",
      "\u001b[33mWARNING: Running pip as the 'root' user can result in broken permissions and conflicting behaviour with the system package manager. It is recommended to use a virtual environment instead: https://pip.pypa.io/warnings/venv\u001b[0m\u001b[33m\n",
      "\u001b[0m\n",
      "\u001b[1m[\u001b[0m\u001b[34;49mnotice\u001b[0m\u001b[1;39;49m]\u001b[0m\u001b[39;49m A new release of pip is available: \u001b[0m\u001b[31;49m23.0\u001b[0m\u001b[39;49m -> \u001b[0m\u001b[32;49m23.1.2\u001b[0m\n",
      "\u001b[1m[\u001b[0m\u001b[34;49mnotice\u001b[0m\u001b[1;39;49m]\u001b[0m\u001b[39;49m To update, run: \u001b[0m\u001b[32;49mpython3 -m pip install --upgrade pip\u001b[0m\n"
     ]
    }
   ],
   "source": [
    "!pip install googlesearch-python\n",
    "!pip install wikipedia"
   ]
  },
  {
   "cell_type": "code",
   "execution_count": 32,
   "id": "a3f34ac7",
   "metadata": {},
   "outputs": [],
   "source": [
    "from googlesearch import search\n",
    "import wikipedia"
   ]
  },
  {
   "cell_type": "code",
   "execution_count": 19,
   "id": "b5ccdea0",
   "metadata": {},
   "outputs": [],
   "source": [
    "search_term = \"Rendevouz with Rama\"\n",
    "results = search(\"Wikipedia\" + search_term, num_results=5)"
   ]
  },
  {
   "cell_type": "code",
   "execution_count": 33,
   "id": "0789a1de",
   "metadata": {},
   "outputs": [
    {
     "data": {
      "text/plain": [
       "\"Bill Clinton, a Democrat from Arkansas, was elected President of the United States on November 3, 1992 and was inaugurated as the nation's 42nd president on January 20, 1993. Re-elected on November 5, 1996, his second inauguration was on January 20, 1997, and his presidency ended on January 20, 2001 with the inauguration of George W. Bush. The following articles cover the timeline of Clinton's presidency, and the time leading up to it:\\n\\nPre-presidency: 1991–1993\\nBill Clinton 1992 presidential campaign\\nPresidential transition of Bill Clinton\\nPresidency: 1993–2001\\nTimeline of the Bill Clinton presidency (1993)\\nTimeline of the Bill Clinton presidency (1994)\\nTimeline of the Bill Clinton presidency (1995)\\nTimeline of the Bill Clinton presidency (1996)\\nTimeline of the Bill Clinton presidency (1997)\\nTimeline of the Bill Clinton presidency (1998)\\nTimeline of the Bill Clinton presidency (1999)\\nTimeline of the Bill Clinton presidency (2000–2001)\""
      ]
     },
     "execution_count": 33,
     "metadata": {},
     "output_type": "execute_result"
    }
   ],
   "source": [
    "wikipedia.summary(\"Timeline_of_the_Bill_Clinton_presidency\")"
   ]
  },
  {
   "cell_type": "code",
   "execution_count": 20,
   "id": "b9de8b87",
   "metadata": {},
   "outputs": [
    {
     "data": {
      "text/plain": [
       "generator"
      ]
     },
     "execution_count": 20,
     "metadata": {},
     "output_type": "execute_result"
    }
   ],
   "source": [
    "type(results)"
   ]
  },
  {
   "cell_type": "code",
   "execution_count": 21,
   "id": "30d5cf98",
   "metadata": {},
   "outputs": [],
   "source": [
    "url = None\n",
    "for result in results:\n",
    "    if \"wikipedia.org\" in result:\n",
    "        url = result"
   ]
  },
  {
   "cell_type": "code",
   "execution_count": 22,
   "id": "15a2a650",
   "metadata": {},
   "outputs": [
    {
     "data": {
      "text/plain": [
       "'https://en.wikipedia.org/wiki/Rendezvous_with_Rama'"
      ]
     },
     "execution_count": 22,
     "metadata": {},
     "output_type": "execute_result"
    }
   ],
   "source": [
    "url"
   ]
  },
  {
   "cell_type": "code",
   "execution_count": 86,
   "id": "edd0d10d",
   "metadata": {},
   "outputs": [],
   "source": [
    "def find_wiki_page(search_term):\n",
    "    results = search(\"Wikipedia \" + search_term, num_results=10)\n",
    "    url = None\n",
    "    for result in results:\n",
    "        print (result)\n",
    "        if \"wikipedia.org\" in result:\n",
    "            url = result\n",
    "    details = {}\n",
    "    if url:\n",
    "        page_name_start = url.index(\"wiki/\")\n",
    "        details[\"page_name\"] = url[page_name_start+5:]\n",
    "        try:\n",
    "            details[\"summary\"] = wikipedia.summary(details[\"page_name\"])\n",
    "        except:\n",
    "            print(f\"Could not find page for {details['page_name']}\")\n",
    "            \n",
    "            print (\"Searching for matches on wiki\")\n",
    "            # Try to search for the term\n",
    "            matches = wikipedia.search(details[\"page_name\"])\n",
    "            print (f\"Matches found {len(matches)}\")\n",
    "            \n",
    "            for match in matches:\n",
    "                try:\n",
    "                    print (f\"Parsing data from match: {match}\")\n",
    "                    details[\"summary\"] = wikipedia.summary(match)\n",
    "                    if details[\"summary\"]:\n",
    "                        break\n",
    "                except:\n",
    "                    print(f\"Could not find page for {details['page_name']}\")\n",
    "                    \n",
    "            \n",
    "            \n",
    "    return url, details"
   ]
  },
  {
   "cell_type": "code",
   "execution_count": 87,
   "id": "c48fced4",
   "metadata": {},
   "outputs": [
    {
     "name": "stdout",
     "output_type": "stream",
     "text": [
      "https://en.wikipedia.org/wiki/Gundam\n",
      "https://gundam.fandom.com/wiki/The_Gundam_Wiki\n",
      "https://www.reddit.com/r/gundam/wiki/index/\n",
      "https://www.wikidata.org/wiki/Q1134906\n",
      "https://pmi.org/externalLinkWithGoal?url=//kagenkoysimal.ml/qhzyv67pmiorgmini5\n",
      "https://en.gundam.info/about-gundam/series-pages/witch/\n",
      "https://wiki.gbl.gg/\n",
      "https://www.imdb.com/name/nm5804925/\n",
      "https://d-tough.cfd/666111\n",
      "https://wiki.gbl.gg/\n",
      "https://www.imdb.com/name/nm5804925/\n",
      "https://d-tough.cfd/666111\n",
      "Could not find page for Gundam\n",
      "Searching for matches on wiki\n",
      "Matches found 10\n",
      "Parsing data from match: Gundam\n",
      "Could not find page for Gundam\n",
      "Parsing data from match: Mobile Suit Gundam\n"
     ]
    }
   ],
   "source": [
    "url, details = find_wiki_page(\"gundam\")"
   ]
  },
  {
   "cell_type": "code",
   "execution_count": 88,
   "id": "39c6641e",
   "metadata": {},
   "outputs": [
    {
     "data": {
      "text/plain": [
       "'https://en.wikipedia.org/wiki/Gundam'"
      ]
     },
     "execution_count": 88,
     "metadata": {},
     "output_type": "execute_result"
    }
   ],
   "source": [
    "url"
   ]
  },
  {
   "cell_type": "code",
   "execution_count": 89,
   "id": "812713be",
   "metadata": {},
   "outputs": [
    {
     "data": {
      "text/plain": [
       "{'page_name': 'Gundam',\n",
       " 'summary': 'Mobile Suit Gundam (Japanese: 機動戦士ガンダム, Hepburn: Kidō Senshi Gandamu), also known as First Gundam, Gundam 0079 or simply Gundam \\'79, is an anime television series, produced and animated by Nippon Sunrise. Created and directed by Yoshiyuki Tomino, it premiered in Japan on Nagoya Broadcasting Network and its affiliated ANN stations on April 7, 1979, and lasted until January 26, 1980, spanning 43 episodes. It was the first Gundam series, which has subsequently been adapted into numerous sequels and spin-offs. Set in the futuristic calendar year \"Universal Century\" 0079, the plot focuses on the war between the Principality of Zeon and the Earth Federation, with the latter unveiling a new giant robot known as the RX-78-2 Gundam piloted by the teenage civilian mechanic Amuro Ray.\\nIn 1981, the series was re-edited for theatrical release and split into three films. The characters were designed by Yoshikazu Yasuhiko, and Kunio Okawara was responsible for the mechanical designs, including the eponymous giant robot, the RX-78-2 Gundam. The first film was released on February 22, 1981. Tomino himself also wrote a trilogy of novels that retell the events of the series. Two manga adaptations of the series have also been written by two manga artists.\\nDespite initial low ratings that caused the series\\' cancellation, the popularity of Gundam saw a boost from the introduction of Bandai\\'s Gunpla models in 1980 and from reruns and the theatrical release of the anime, leading to the creation of a prolific and lucrative media and toy franchise. The series is famous for revolutionizing the giant robot genre due to the handling of mobile suits as weapons of war, as well as the portrayal of their pilots as ordinary soldiers. This aspects contrasted with the previous style of portraying hero pilots and their giant super hero robots.'}"
      ]
     },
     "execution_count": 89,
     "metadata": {},
     "output_type": "execute_result"
    }
   ],
   "source": [
    "details"
   ]
  },
  {
   "cell_type": "code",
   "execution_count": 79,
   "id": "5ba28cbb",
   "metadata": {},
   "outputs": [
    {
     "data": {
      "text/plain": [
       "['Gundam',\n",
       " 'Mobile Suit Gundam',\n",
       " 'Mobile Suit Gundam: The Witch from Mercury',\n",
       " 'Mobile Suit Gundam SEED',\n",
       " 'Mobile Suit Gundam: Iron-Blooded Orphans',\n",
       " 'Mobile Suit Zeta Gundam',\n",
       " 'Gundam (fictional robot)',\n",
       " 'Mobile Fighter G Gundam',\n",
       " 'Gundam model',\n",
       " 'Mobile Suit Gundam Wing']"
      ]
     },
     "execution_count": 79,
     "metadata": {},
     "output_type": "execute_result"
    }
   ],
   "source": [
    "wikipedia.search(\"Gundam\")"
   ]
  },
  {
   "cell_type": "code",
   "execution_count": 81,
   "id": "a34f9e5d",
   "metadata": {},
   "outputs": [],
   "source": [
    "page = wikipedia.page('Mobile Suit Gundam')"
   ]
  },
  {
   "cell_type": "code",
   "execution_count": null,
   "id": "6ca94791",
   "metadata": {},
   "outputs": [],
   "source": []
  },
  {
   "cell_type": "code",
   "execution_count": null,
   "id": "1eebddad",
   "metadata": {},
   "outputs": [],
   "source": []
  },
  {
   "cell_type": "code",
   "execution_count": null,
   "id": "135c8195",
   "metadata": {},
   "outputs": [],
   "source": []
  },
  {
   "cell_type": "code",
   "execution_count": null,
   "id": "bb014361",
   "metadata": {},
   "outputs": [],
   "source": []
  }
 ],
 "metadata": {
  "kernelspec": {
   "display_name": "Python 3 (ipykernel)",
   "language": "python",
   "name": "python3"
  },
  "language_info": {
   "codemirror_mode": {
    "name": "ipython",
    "version": 3
   },
   "file_extension": ".py",
   "mimetype": "text/x-python",
   "name": "python",
   "nbconvert_exporter": "python",
   "pygments_lexer": "ipython3",
   "version": "3.8.10"
  }
 },
 "nbformat": 4,
 "nbformat_minor": 5
}
