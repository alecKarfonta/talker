{
 "cells": [
  {
   "cell_type": "markdown",
   "id": "7f7ba170",
   "metadata": {},
   "source": [
    "# Requirements"
   ]
  },
  {
   "cell_type": "code",
   "execution_count": null,
   "id": "8096df5c",
   "metadata": {},
   "outputs": [],
   "source": [
    "#!apt update"
   ]
  },
  {
   "cell_type": "code",
   "execution_count": null,
   "id": "9fd256e7",
   "metadata": {
    "scrolled": false
   },
   "outputs": [],
   "source": [
    "#!pip install git+https://github.com/coqui-ai/TTS --no-deps"
   ]
  },
  {
   "cell_type": "code",
   "execution_count": null,
   "id": "eb3b24b6",
   "metadata": {},
   "outputs": [],
   "source": [
    "#!pip install -r voicebox_requirements.txt"
   ]
  },
  {
   "cell_type": "code",
   "execution_count": null,
   "id": "53f53c08",
   "metadata": {},
   "outputs": [],
   "source": [
    "#!pip install espeakng\n",
    "#!pip install speechbrain"
   ]
  },
  {
   "cell_type": "code",
   "execution_count": null,
   "id": "c43d6235",
   "metadata": {},
   "outputs": [],
   "source": [
    "#!pip install -r requirements_1.txt"
   ]
  },
  {
   "cell_type": "code",
   "execution_count": null,
   "id": "90517db4",
   "metadata": {},
   "outputs": [],
   "source": [
    "#import nltk\n",
    "#nltk.download('punkt')\n",
    "#nltk.download('averaged_perceptron_tagger')"
   ]
  },
  {
   "cell_type": "markdown",
   "id": "db5ab0fa",
   "metadata": {},
   "source": [
    "# Imports"
   ]
  },
  {
   "cell_type": "code",
   "execution_count": 20,
   "id": "9f509a98",
   "metadata": {},
   "outputs": [
    {
     "data": {
      "text/html": [
       "<style>#notification_trusted {\n",
       "    display: none;\n",
       "}\n",
       "\n",
       "\n",
       ".CodeMirror-sizer {\n",
       "    border-right-color: transparent;\n",
       "    margin-bottom: 0px !important;\n",
       "}\n",
       "\n",
       "div.output_prompt {\n",
       "    color: #ae81ff;\n",
       "    display: none !important;\n",
       "    \n",
       "}\n",
       "\n",
       "div.output_area {\n",
       "    width: 90%\n",
       "}\n",
       "\n",
       ".rendered_html table {\n",
       "    font-size: 14px;\n",
       "}\n",
       "\n",
       ".toc-item-highlight-select {\n",
       "    background-color: rgb(29 0 181) !important;\n",
       "}\n",
       "\n",
       ".toc-item-highlight-execute {\n",
       "    background-color: rgb(7 91 23) !important;\n",
       "}\n",
       "\n",
       "#toc li > span:hover {\n",
       "    background-color: rgb(0 104 186) !important;\n",
       "}\n",
       "\n",
       "\n",
       ".prompt {\n",
       "    display: none;\n",
       "}\n",
       "\n",
       "\n",
       "#toc-wrapper {\n",
       "    background-color: rgb(24, 26, 27);\n",
       "    margin-top: 1.4em;\n",
       "}\n",
       "\n",
       "/* Replace */\n",
       "\n",
       "img {\n",
       "    vertical-align: middle;\n",
       "    text-align: center;\n",
       "    float: left;\n",
       "    position: relative;\n",
       "    margin-left: auto;\n",
       "    margin-right: auto;\n",
       "    display: inherit;\n",
       "}</style>"
      ],
      "text/plain": [
       "<IPython.core.display.HTML object>"
      ]
     },
     "execution_count": 20,
     "metadata": {},
     "output_type": "execute_result"
    }
   ],
   "source": [
    "# Style overrides\n",
    "from IPython.core.display import HTML\n",
    "css = open(\"../../QA/overrides.css\", \"r\").readlines()\n",
    "css = \"\".join(css)\n",
    "css = f\"<style>{css}</style>\"\n",
    "HTML(css)"
   ]
  },
  {
   "cell_type": "code",
   "execution_count": 21,
   "id": "3a93ef07",
   "metadata": {},
   "outputs": [],
   "source": [
    "# Ignore warnings\n",
    "import warnings\n",
    "warnings.filterwarnings('ignore')"
   ]
  },
  {
   "cell_type": "code",
   "execution_count": 22,
   "id": "a06ddae4",
   "metadata": {},
   "outputs": [],
   "source": [
    "# Auto reload imports\n",
    "%load_ext autoreload\n",
    "%autoreload 2"
   ]
  },
  {
   "cell_type": "code",
   "execution_count": 23,
   "id": "9b8af5aa",
   "metadata": {},
   "outputs": [],
   "source": [
    "import sys\n",
    "sys.path.append('../reader')"
   ]
  },
  {
   "cell_type": "code",
   "execution_count": 24,
   "id": "8313ada7",
   "metadata": {},
   "outputs": [],
   "source": [
    "# TODO: Make tool to print all current deps and version"
   ]
  },
  {
   "cell_type": "code",
   "execution_count": 25,
   "id": "7bf3a6ce",
   "metadata": {},
   "outputs": [],
   "source": [
    "import IPython"
   ]
  },
  {
   "cell_type": "code",
   "execution_count": 26,
   "id": "3cae1081",
   "metadata": {},
   "outputs": [],
   "source": [
    "import os\n",
    "import requests\n",
    "import json\n",
    "import numpy as np\n",
    "from time import time\n",
    "import scipy.io.wavfile\n",
    "import nltk\n",
    "from pydub import AudioSegment"
   ]
  },
  {
   "cell_type": "code",
   "execution_count": 27,
   "id": "8b22a03e",
   "metadata": {},
   "outputs": [],
   "source": [
    "import pandas as pd\n",
    "import matplotlib.pyplot as plt\n",
    "%matplotlib inline\n",
    "\n",
    "# Plot Config\n",
    "#plt.style.use([\"seaborn-darkgrid\"])\n",
    "plt.rcParams[\"figure.figsize\"] = (20, 6)\n",
    "plt.rcParams[\"figure.facecolor\"] = \"white\"\n",
    "plt.rcParams[\"axes.edgecolor\"] = \"black\"\n",
    "plt.rcParams[\"xtick.color\"] = \"black\"\n",
    "font = {'family' : 'sans-serif',\n",
    "        'weight' : 'bold',\n",
    "        'size'   : 22}\n",
    "plt.rc('font', **font)\n",
    "# Fonts\n",
    "SMALL_FONT = 22\n",
    "MEDIUM_FONT = 32\n",
    "LARGE_FONT = 44\n",
    "plt.rc('font', size=MEDIUM_FONT)         \n",
    "plt.rc('axes', titlesize=MEDIUM_FONT)\n",
    "plt.rc('axes', labelsize=MEDIUM_FONT)\n",
    "plt.rc('xtick', labelsize=SMALL_FONT)\n",
    "plt.rc('ytick', labelsize=SMALL_FONT)\n",
    "plt.rc('legend', fontsize=MEDIUM_FONT)\n",
    "plt.rc('figure', titlesize=LARGE_FONT) \n",
    "\n",
    "pd.set_option(\"display.max_columns\", 200)\n",
    "pd.set_option(\"display.max_rows\", 1000)"
   ]
  },
  {
   "cell_type": "code",
   "execution_count": 28,
   "id": "1aa0a14a",
   "metadata": {},
   "outputs": [],
   "source": [
    "!export LD_LIBRARY_PATH=$LD_LIBRARY_PATH:/opt/conda/lib/libcudart.so"
   ]
  },
  {
   "cell_type": "code",
   "execution_count": 29,
   "id": "be9f01ee",
   "metadata": {},
   "outputs": [],
   "source": [
    "from voicebox import VoiceBox"
   ]
  },
  {
   "cell_type": "code",
   "execution_count": 30,
   "id": "34ed2a6d",
   "metadata": {},
   "outputs": [],
   "source": [
    "import logging\n",
    "logging.basicConfig(\n",
    "     #filename='DockProc.log',\n",
    "     level=logging.DEBUG, \n",
    "     format= '[%(asctime)s] {%(lineno)d} %(levelname)s - %(message)s',\n",
    "     datefmt='%H:%M:%S'\n",
    " )\n",
    "\n",
    "logging.getLogger(\"requests\").setLevel(logging.WARNING)\n",
    "logging.getLogger(\"urllib3\").setLevel(logging.WARNING)\n",
    "logging.getLogger(\"speechbrain\").setLevel(logging.WARNING)\n",
    "logging.getLogger(\"espeakng\").setLevel(logging.WARNING)\n",
    "logging.getLogger(\"ffmpeg\").setLevel(logging.WARNING)\n",
    "\n",
    "logger = logging.getLogger(\"VoiceBox\")\n",
    "logger.setLevel(\"DEBUG\")\n"
   ]
  },
  {
   "cell_type": "code",
   "execution_count": 31,
   "id": "518e60d1",
   "metadata": {},
   "outputs": [],
   "source": [
    "device = \"cpu\""
   ]
  },
  {
   "cell_type": "code",
   "execution_count": 32,
   "id": "4b6d83b4",
   "metadata": {},
   "outputs": [
    {
     "name": "stdout",
     "output_type": "stream",
     "text": [
      "('3', '10', '11')\n"
     ]
    }
   ],
   "source": [
    "import platform\n",
    "print(platform.python_version_tuple())"
   ]
  },
  {
   "cell_type": "code",
   "execution_count": 33,
   "id": "31f0a5d9",
   "metadata": {},
   "outputs": [
    {
     "data": {
      "text/plain": [
       "'2.1.1+cu121'"
      ]
     },
     "execution_count": 33,
     "metadata": {},
     "output_type": "execute_result"
    }
   ],
   "source": [
    "import torch\n",
    "torch.__version__"
   ]
  },
  {
   "cell_type": "code",
   "execution_count": 34,
   "id": "2cb05b34",
   "metadata": {},
   "outputs": [
    {
     "data": {
      "text/plain": [
       "'4.37.1'"
      ]
     },
     "execution_count": 34,
     "metadata": {},
     "output_type": "execute_result"
    }
   ],
   "source": [
    "import transformers\n",
    "transformers.__version__"
   ]
  },
  {
   "cell_type": "code",
   "execution_count": 35,
   "id": "ea855a3a",
   "metadata": {},
   "outputs": [
    {
     "data": {
      "text/plain": [
       "'3.8.1'"
      ]
     },
     "execution_count": 35,
     "metadata": {},
     "output_type": "execute_result"
    }
   ],
   "source": [
    "import nltk\n",
    "nltk.__version__"
   ]
  },
  {
   "cell_type": "code",
   "execution_count": 36,
   "id": "4a44ad94",
   "metadata": {},
   "outputs": [],
   "source": [
    "#import speechbrain\n",
    "#speechbrain.__version__"
   ]
  },
  {
   "cell_type": "code",
   "execution_count": 37,
   "id": "02c18943",
   "metadata": {},
   "outputs": [
    {
     "data": {
      "text/plain": [
       "'0.19.1'"
      ]
     },
     "execution_count": 37,
     "metadata": {},
     "output_type": "execute_result"
    }
   ],
   "source": [
    "import TTS\n",
    "TTS.__version__"
   ]
  },
  {
   "cell_type": "code",
   "execution_count": 38,
   "id": "3a888932",
   "metadata": {},
   "outputs": [
    {
     "data": {
      "text/plain": [
       "'2.14.5'"
      ]
     },
     "execution_count": 38,
     "metadata": {},
     "output_type": "execute_result"
    }
   ],
   "source": [
    "import datasets\n",
    "datasets.__version__"
   ]
  },
  {
   "cell_type": "code",
   "execution_count": 39,
   "id": "5eb161fa",
   "metadata": {},
   "outputs": [],
   "source": [
    "#!pip install deepspeed"
   ]
  },
  {
   "cell_type": "markdown",
   "id": "c1206447",
   "metadata": {},
   "source": [
    "# Define inputs"
   ]
  },
  {
   "cell_type": "code",
   "execution_count": 40,
   "id": "a699753d",
   "metadata": {},
   "outputs": [],
   "source": [
    "texts = [\n",
    "    \"Hello how's it going?\",\n",
    "    \"I am doing well just hanging out\"\n",
    "]"
   ]
  },
  {
   "cell_type": "markdown",
   "id": "508d3ca2",
   "metadata": {},
   "source": [
    "# Functions"
   ]
  },
  {
   "cell_type": "code",
   "execution_count": 41,
   "id": "96ec2200",
   "metadata": {},
   "outputs": [],
   "source": [
    "def get_read_speed(text, wav):\n",
    "    words = nltk.tokenize.word_tokenize(text)\n",
    "    word_count = 0\n",
    "    for word in words:\n",
    "        if word in [\",\"]:\n",
    "            continue\n",
    "        word_count += 1\n",
    "    audio_length = len(wav) / 24050\n",
    "    words_per_second = word_count / audio_length\n",
    "    return words_per_second, audio_length"
   ]
  },
  {
   "cell_type": "code",
   "execution_count": null,
   "id": "4791f29a",
   "metadata": {},
   "outputs": [],
   "source": []
  },
  {
   "cell_type": "markdown",
   "id": "7a4c7b26",
   "metadata": {},
   "source": [
    "# SST"
   ]
  },
  {
   "cell_type": "markdown",
   "id": "8c09b278",
   "metadata": {},
   "source": [
    "## Init model"
   ]
  },
  {
   "cell_type": "code",
   "execution_count": null,
   "id": "1b9a14b4",
   "metadata": {},
   "outputs": [],
   "source": [
    "from transformers import WhisperProcessor, WhisperForConditionalGeneration\n",
    "from datasets import load_dataset\n",
    "sst_processor = WhisperProcessor.from_pretrained(\"openai/whisper-large-v2\")\n",
    "sst_model = WhisperForConditionalGeneration.from_pretrained(\"openai/whisper-large-v2\")\n",
    "sst_model.config.forced_decoder_ids = None"
   ]
  },
  {
   "cell_type": "code",
   "execution_count": null,
   "id": "f5c321ee",
   "metadata": {},
   "outputs": [],
   "source": [
    "sst_model.cuda()"
   ]
  },
  {
   "cell_type": "code",
   "execution_count": null,
   "id": "3e5f52ac",
   "metadata": {},
   "outputs": [],
   "source": [
    "def sst(wav, source_sample_rate=24050, target_sample_rate = 16000):\n",
    "    \n",
    "    \n",
    "    if source_sample_rate != target_sample_rate:\n",
    "        #index_stirng = str(index).zfill(3)\n",
    "        #filename = f\"bad_{index_stirng}.wav\"\n",
    "        filename = \"cache.wav\"\n",
    "        scipy.io.wavfile.write(filename, source_sample_rate, np.array(wav))\n",
    "        target_filename = filename.replace(\".wav\", f\"_{target_sample_rate/1000}.wav\")\n",
    "\n",
    "        os.system(f'ffmpeg -y -hide_banner -loglevel error -i {filename} -ar {target_sample_rate} {target_filename}')\n",
    "        sample_rate, wav = scipy.io.wavfile.read(target_filename)\n",
    "    \n",
    "    \n",
    "    \n",
    "    input_features = sst_processor(wav, sampling_rate=target_sample_rate, return_tensors=\"pt\").input_features \n",
    "    input_features = input_features.to(\"cuda\")\n",
    "    predicted_ids = sst_model.generate(input_features)\n",
    "    transcription = sst_processor.batch_decode(predicted_ids, skip_special_tokens=True)\n",
    "    return transcription"
   ]
  },
  {
   "cell_type": "code",
   "execution_count": null,
   "id": "550f3f7c",
   "metadata": {},
   "outputs": [],
   "source": []
  },
  {
   "cell_type": "code",
   "execution_count": null,
   "id": "92692d8e",
   "metadata": {},
   "outputs": [],
   "source": []
  },
  {
   "cell_type": "code",
   "execution_count": null,
   "id": "1e6f0e48",
   "metadata": {},
   "outputs": [],
   "source": []
  },
  {
   "cell_type": "markdown",
   "id": "87cd857a",
   "metadata": {},
   "source": [
    "# Init model"
   ]
  },
  {
   "cell_type": "code",
   "execution_count": null,
   "id": "43a17bd9",
   "metadata": {},
   "outputs": [],
   "source": [
    "# Defaulat voicebox\n",
    "#voice = VoiceBox(\n",
    "#            logger=logger, \n",
    "#            config_filename=\"voicebox_config.json\",\n",
    "#            speaker_wav=\"data/gits_3.wav\"\n",
    "#)"
   ]
  },
  {
   "cell_type": "code",
   "execution_count": null,
   "id": "4be51895",
   "metadata": {},
   "outputs": [],
   "source": [
    "import os\n",
    "print(os.environ.get('CUDA_PATH'))"
   ]
  },
  {
   "cell_type": "code",
   "execution_count": null,
   "id": "e20ff098",
   "metadata": {},
   "outputs": [],
   "source": [
    "#voice.config[\"synth_params\"][\"temperature\"] = 0.01"
   ]
  },
  {
   "cell_type": "markdown",
   "id": "3219ef66",
   "metadata": {},
   "source": [
    "# Run model"
   ]
  },
  {
   "cell_type": "code",
   "execution_count": null,
   "id": "d3e6036e",
   "metadata": {},
   "outputs": [],
   "source": [
    "\n",
    "#wav, rate, wavs = voice.read_text(texts[1] + \" \" + texts[2]) "
   ]
  },
  {
   "cell_type": "code",
   "execution_count": null,
   "id": "bf89628b",
   "metadata": {},
   "outputs": [],
   "source": [
    "#wav = wav.astype(int).tolist()"
   ]
  },
  {
   "cell_type": "code",
   "execution_count": null,
   "id": "ae7f2bcf",
   "metadata": {},
   "outputs": [],
   "source": [
    "#IPython.display.display(IPython.display.Audio(wav, rate=rate, autoplay=False))"
   ]
  },
  {
   "cell_type": "markdown",
   "id": "a917d1da",
   "metadata": {},
   "source": [
    "# Microservice test"
   ]
  },
  {
   "cell_type": "code",
   "execution_count": null,
   "id": "d7804deb",
   "metadata": {},
   "outputs": [],
   "source": [
    "# Health check\n",
    "r = requests.get(\"http://192.168.1.120:8100/test\")\n",
    "r.status_code"
   ]
  },
  {
   "cell_type": "markdown",
   "id": "813e83df",
   "metadata": {},
   "source": [
    "## 3090 TI"
   ]
  },
  {
   "cell_type": "code",
   "execution_count": null,
   "id": "701eea51",
   "metadata": {},
   "outputs": [],
   "source": []
  },
  {
   "cell_type": "code",
   "execution_count": 47,
   "id": "776cb52c",
   "metadata": {},
   "outputs": [
    {
     "name": "stdout",
     "output_type": "stream",
     "text": [
      "run_time = 1.32s\n",
      "words_per_sec = 5.31\n",
      "Run_time ratio = 1.63\n"
     ]
    }
   ],
   "source": [
    "# Define input\n",
    "#text = \"pew pew\"\n",
    "text = texts[1]\n",
    "# Form payload to api\n",
    "payload = {'text': text, 'time': 'time', 'priority' : \"100.0\"}\n",
    "\n",
    "start_time = time()\n",
    "r = requests.post(\"http://192.168.1.120:8100/tts\", data=json.dumps(payload))\n",
    "wav = r.json()[\"wav\"]\n",
    "end_time = time()\n",
    "run_time = end_time - start_time\n",
    "words_per_sec = len(text.split(\" \")) / run_time\n",
    "print (f\"{run_time = :.2f}s\")\n",
    "print (f\"{words_per_sec = :.2f}\")\n",
    "print (f\"Run_time ratio = {(len(wav) / 24000) / run_time :.2f}\")"
   ]
  },
  {
   "cell_type": "code",
   "execution_count": 48,
   "id": "a18013f7",
   "metadata": {},
   "outputs": [
    {
     "data": {
      "text/plain": [
       "<Response [200]>"
      ]
     },
     "execution_count": 48,
     "metadata": {},
     "output_type": "execute_result"
    }
   ],
   "source": [
    "r"
   ]
  },
  {
   "cell_type": "code",
   "execution_count": 49,
   "id": "235ccfc3",
   "metadata": {},
   "outputs": [
    {
     "data": {
      "text/html": [
       "\n",
       "                <audio  controls=\"controls\" >\n",
       "                    <source src=\"data:audio/wav;base64,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\" type=\"audio/wav\" />\n",
       "                    Your browser does not support the audio element.\n",
       "                </audio>\n",
       "              "
      ],
      "text/plain": [
       "<IPython.lib.display.Audio object>"
      ]
     },
     "metadata": {},
     "output_type": "display_data"
    }
   ],
   "source": [
    "IPython.display.display(IPython.display.Audio(wav, rate=24000, autoplay=False))"
   ]
  },
  {
   "cell_type": "code",
   "execution_count": 50,
   "id": "036bb8c9",
   "metadata": {},
   "outputs": [
    {
     "data": {
      "text/plain": [
       "[<matplotlib.lines.Line2D at 0x7f7f8706ebf0>]"
      ]
     },
     "execution_count": 50,
     "metadata": {},
     "output_type": "execute_result"
    }
   ],
   "source": [
    "plt.plot(wav)"
   ]
  },
  {
   "cell_type": "code",
   "execution_count": null,
   "id": "190b432f",
   "metadata": {},
   "outputs": [],
   "source": []
  },
  {
   "cell_type": "markdown",
   "id": "1f9b09f5",
   "metadata": {},
   "source": [
    "## Live update config"
   ]
  },
  {
   "cell_type": "code",
   "execution_count": 12,
   "id": "a0cedc64",
   "metadata": {},
   "outputs": [],
   "source": [
    "from time import time\n",
    "import json\n",
    "import requests\n",
    "config = json.load(open(\"voicebox_config.json\", \"r\"))\n"
   ]
  },
  {
   "cell_type": "code",
   "execution_count": 13,
   "id": "52d4e7bd",
   "metadata": {},
   "outputs": [],
   "source": [
    "config[\"synth_params\"][\"repetition_penalty\"] = 2.2\n",
    "config[\"synth_params\"][\"length_penalty\"] = -1.5\n",
    "config[\"synth_params\"][\"temperature\"] = 0.00000005\n",
    "config[\"synth_params\"][\"gpt_cond_len\"] = 2\n",
    "#config[\"synth_params\"][\"gpt_cond_len\"] = 3\n",
    "#config[\"vocoder\"][\"speed_up\"] = 1.18\n",
    "#config[\"vocoder\"][\"speaker_wav\"] = \"data/trey.wav\"\n",
    "#config[\"vocoder\"][\"speaker_wav\"] = None\n",
    "config[\"vocoder\"][\"speed_up\"] = 1.27\n",
    "config[\"vocoder\"][\"speaker_wav\"] = \"data/gits_3.wav\""
   ]
  },
  {
   "cell_type": "code",
   "execution_count": 14,
   "id": "d60e95f0",
   "metadata": {},
   "outputs": [],
   "source": [
    "payload = config\n",
    "start_time = time()\n",
    "r = requests.post(\"http://192.168.1.120:8100/set-config\", data=json.dumps(payload))"
   ]
  },
  {
   "cell_type": "code",
   "execution_count": null,
   "id": "8988a2d5",
   "metadata": {},
   "outputs": [],
   "source": []
  }
 ],
 "metadata": {
  "kernelspec": {
   "display_name": "Python 3 (ipykernel)",
   "language": "python",
   "name": "python3"
  },
  "language_info": {
   "codemirror_mode": {
    "name": "ipython",
    "version": 3
   },
   "file_extension": ".py",
   "mimetype": "text/x-python",
   "name": "python",
   "nbconvert_exporter": "python",
   "pygments_lexer": "ipython3",
   "version": "3.10.11"
  },
  "toc": {
   "base_numbering": 1,
   "nav_menu": {},
   "number_sections": true,
   "sideBar": true,
   "skip_h1_title": false,
   "title_cell": "Table of Contents",
   "title_sidebar": "Contents",
   "toc_cell": false,
   "toc_position": {
    "height": "calc(100% - 180px)",
    "left": "10px",
    "top": "150px",
    "width": "261.285px"
   },
   "toc_section_display": true,
   "toc_window_display": true
  }
 },
 "nbformat": 4,
 "nbformat_minor": 5
}
